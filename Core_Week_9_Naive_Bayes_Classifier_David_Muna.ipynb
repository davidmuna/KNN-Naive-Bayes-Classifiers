{
  "nbformat": 4,
  "nbformat_minor": 0,
  "metadata": {
    "colab": {
      "name": "Core Week 9 Naive Bayes Classifier-David Muna",
      "provenance": [],
      "collapsed_sections": [
        "J4wfHZwQrs-t",
        "a9BPYqunry97",
        "7KMRBJ7zr9HD",
        "zSGyg6kWsBUl",
        "6XC_g-zKxe-r",
        "HPQviDmNtta8",
        "qjFHK1CKty7o",
        "HSsicSdvt4Zs"
      ],
      "include_colab_link": true
    },
    "kernelspec": {
      "name": "python3",
      "display_name": "Python 3"
    }
  },
  "cells": [
    {
      "cell_type": "markdown",
      "metadata": {
        "id": "view-in-github",
        "colab_type": "text"
      },
      "source": [
        "<a href=\"https://colab.research.google.com/github/davidmuna/KNN-Naive-Bayes-Classifiers/blob/main/Core_Week_9_Naive_Bayes_Classifier_David_Muna.ipynb\" target=\"_parent\"><img src=\"https://colab.research.google.com/assets/colab-badge.svg\" alt=\"Open In Colab\"/></a>"
      ]
    },
    {
      "cell_type": "markdown",
      "metadata": {
        "id": "xMxtPsqcTsSH"
      },
      "source": [
        "# Supervised Learning - Naive Bayes Classifier"
      ]
    },
    {
      "cell_type": "markdown",
      "metadata": {
        "id": "kLG2VTrnTvYL"
      },
      "source": [
        "## 1. Defining the Question\n",
        "\n"
      ]
    },
    {
      "cell_type": "markdown",
      "metadata": {
        "id": "XecOwPNorl2W"
      },
      "source": [
        "### a) Specifying the Data Analytic Question"
      ]
    },
    {
      "cell_type": "markdown",
      "metadata": {
        "id": "9ozBnKfehSAw"
      },
      "source": [
        "We want to classify/predict whether emails are spam or not.\n",
        "\n",
        "\n"
      ]
    },
    {
      "cell_type": "markdown",
      "metadata": {
        "id": "J4wfHZwQrs-t"
      },
      "source": [
        "### b) Defining the Metric for Success\n",
        "\n",
        "Successfully classifying emails as either spam or not with an accuracy of correct predictions not less than 80% using the following model and metrics:\n",
        "\n",
        "\n",
        "\n",
        "*   Multinomial Naive Bayes \n",
        "*   Multinomial Naive Bayes Laplace Correction\n",
        "*   Selecting the best test_size\n",
        "*   Accuracy of correct predictions\n",
        "*   Reporting confusion matrix"
      ]
    },
    {
      "cell_type": "markdown",
      "metadata": {
        "id": "a9BPYqunry97"
      },
      "source": [
        "### c) Understanding the context \n",
        "\n",
        "In todays world, may organisations and individuals dread unsolicited spam messages as this is a source of distraction which infringe on peoples privacy and preferences in email content by violating the principles of personal loyalty and legitimacy of consumer data collection. Therefore, its imperative that emails be classsified as either spam or not."
      ]
    },
    {
      "cell_type": "markdown",
      "metadata": {
        "id": "7KMRBJ7zr9HD"
      },
      "source": [
        "### d) Recording the Experimental Design\n",
        "\n",
        "\n",
        "\n",
        "*   Data Preparation and Cleaning\n",
        "*   Exploratory Data Analysis and Normality Tests\n",
        "*   Modelling\n",
        "*   Improving Model Performance\n",
        "*   Evaluation\n",
        "\n",
        "\n"
      ]
    },
    {
      "cell_type": "markdown",
      "metadata": {
        "id": "zSGyg6kWsBUl"
      },
      "source": [
        "### e) Data Relevance\n",
        "\n",
        "Our data becomes relevant once we achieve the metrics for success."
      ]
    },
    {
      "cell_type": "markdown",
      "metadata": {
        "id": "iUNbvIvnT7ep"
      },
      "source": [
        "## 2. Reading the Data"
      ]
    },
    {
      "cell_type": "code",
      "metadata": {
        "id": "XJn2KjW-WMlG"
      },
      "source": [
        "# Loading the Data from the source i.e. csv\n",
        "# ---\n",
        "import numpy as np, pandas as pd\n",
        "import matplotlib.pyplot as plt\n",
        "import seaborn as sns\n",
        "#Filtering Warnings\n",
        "import warnings\n",
        "warnings.simplefilter(\"ignore\")\n",
        "\n",
        "data = pd.read_csv('/content/spambase.data')"
      ],
      "execution_count": 213,
      "outputs": []
    },
    {
      "cell_type": "markdown",
      "metadata": {
        "id": "OI3P3YnHUEBk"
      },
      "source": [
        "\n",
        "\n",
        "## 3. Checking the Data"
      ]
    },
    {
      "cell_type": "markdown",
      "metadata": {
        "id": "5lu7rc4Elt-l"
      },
      "source": [
        "##### Attribute Information:\n",
        "\n",
        "The last column of 'spambase.data' denotes whether the e-mail was considered spam (1) or not (0), i.e. unsolicited commercial e-mail. Most of the attributes indicate whether a particular word or character was frequently occuring in the e-mail. The run-length attributes (55-57) measure the length of sequences of consecutive capital letters. For the statistical measures of each attribute, see the end of this file. Here are the definitions of the attributes:\n",
        "\n",
        "48 continuous real [0,100] attributes of type word_freq_WORD\n",
        "= percentage of words in the e-mail that match WORD, i.e. 100 * (number of times the WORD appears in the e-mail) / total number of words in e-mail. A \"word\" in this case is any string of alphanumeric characters bounded by non-alphanumeric characters or end-of-string.\n",
        "\n",
        "6 continuous real [0,100] attributes of type char_freq_CHAR]\n",
        "= percentage of characters in the e-mail that match CHAR, i.e. 100 * (number of CHAR occurences) / total characters in e-mail\n",
        "\n",
        "1 continuous real [1,...] attribute of type capital_run_length_average\n",
        "= average length of uninterrupted sequences of capital letters\n",
        "\n",
        "1 continuous integer [1,...] attribute of type capital_run_length_longest\n",
        "= length of longest uninterrupted sequence of capital letters\n",
        "\n",
        "1 continuous integer [1,...] attribute of type capital_run_length_total\n",
        "= sum of length of uninterrupted sequences of capital letters\n",
        "= total number of capital letters in the e-mail\n",
        "\n",
        "1 nominal {0,1} class attribute of type spam\n",
        "= denotes whether the e-mail was considered spam (1) or not (0), i.e. unsolicited commercial e-mail."
      ]
    },
    {
      "cell_type": "code",
      "metadata": {
        "id": "YjSVNwgptHxY",
        "outputId": "eba31d3a-d2ff-4e39-c347-7d6aa7cf4518",
        "colab": {
          "base_uri": "https://localhost:8080/",
          "height": 35
        }
      },
      "source": [
        "# Determining the no. of records in our dataset\n",
        "print('data',data.shape)"
      ],
      "execution_count": 129,
      "outputs": [
        {
          "output_type": "stream",
          "text": [
            "data (4600, 58)\n"
          ],
          "name": "stdout"
        }
      ]
    },
    {
      "cell_type": "code",
      "metadata": {
        "id": "xHhTw5eKWr0n",
        "outputId": "9b0728b0-f5cf-46d3-f421-7b5e3c643c66",
        "colab": {
          "base_uri": "https://localhost:8080/",
          "height": 158
        }
      },
      "source": [
        "# Previewing the top of our datasets\n",
        "data.head(3)"
      ],
      "execution_count": 130,
      "outputs": [
        {
          "output_type": "execute_result",
          "data": {
            "text/html": [
              "<div>\n",
              "<style scoped>\n",
              "    .dataframe tbody tr th:only-of-type {\n",
              "        vertical-align: middle;\n",
              "    }\n",
              "\n",
              "    .dataframe tbody tr th {\n",
              "        vertical-align: top;\n",
              "    }\n",
              "\n",
              "    .dataframe thead th {\n",
              "        text-align: right;\n",
              "    }\n",
              "</style>\n",
              "<table border=\"1\" class=\"dataframe\">\n",
              "  <thead>\n",
              "    <tr style=\"text-align: right;\">\n",
              "      <th></th>\n",
              "      <th>0</th>\n",
              "      <th>0.64</th>\n",
              "      <th>0.64.1</th>\n",
              "      <th>0.1</th>\n",
              "      <th>0.32</th>\n",
              "      <th>0.2</th>\n",
              "      <th>0.3</th>\n",
              "      <th>0.4</th>\n",
              "      <th>0.5</th>\n",
              "      <th>0.6</th>\n",
              "      <th>0.7</th>\n",
              "      <th>0.64.2</th>\n",
              "      <th>0.8</th>\n",
              "      <th>0.9</th>\n",
              "      <th>0.10</th>\n",
              "      <th>0.32.1</th>\n",
              "      <th>0.11</th>\n",
              "      <th>1.29</th>\n",
              "      <th>1.93</th>\n",
              "      <th>0.12</th>\n",
              "      <th>0.96</th>\n",
              "      <th>0.13</th>\n",
              "      <th>0.14</th>\n",
              "      <th>0.15</th>\n",
              "      <th>0.16</th>\n",
              "      <th>0.17</th>\n",
              "      <th>0.18</th>\n",
              "      <th>0.19</th>\n",
              "      <th>0.20</th>\n",
              "      <th>0.21</th>\n",
              "      <th>0.22</th>\n",
              "      <th>0.23</th>\n",
              "      <th>0.24</th>\n",
              "      <th>0.25</th>\n",
              "      <th>0.26</th>\n",
              "      <th>0.27</th>\n",
              "      <th>0.28</th>\n",
              "      <th>0.29</th>\n",
              "      <th>0.30</th>\n",
              "      <th>0.31</th>\n",
              "      <th>0.32.2</th>\n",
              "      <th>0.33</th>\n",
              "      <th>0.34</th>\n",
              "      <th>0.35</th>\n",
              "      <th>0.36</th>\n",
              "      <th>0.37</th>\n",
              "      <th>0.38</th>\n",
              "      <th>0.39</th>\n",
              "      <th>0.40</th>\n",
              "      <th>0.41</th>\n",
              "      <th>0.42</th>\n",
              "      <th>0.778</th>\n",
              "      <th>0.43</th>\n",
              "      <th>0.44</th>\n",
              "      <th>3.756</th>\n",
              "      <th>61</th>\n",
              "      <th>278</th>\n",
              "      <th>1</th>\n",
              "    </tr>\n",
              "  </thead>\n",
              "  <tbody>\n",
              "    <tr>\n",
              "      <th>0</th>\n",
              "      <td>0.21</td>\n",
              "      <td>0.28</td>\n",
              "      <td>0.50</td>\n",
              "      <td>0.0</td>\n",
              "      <td>0.14</td>\n",
              "      <td>0.28</td>\n",
              "      <td>0.21</td>\n",
              "      <td>0.07</td>\n",
              "      <td>0.00</td>\n",
              "      <td>0.94</td>\n",
              "      <td>0.21</td>\n",
              "      <td>0.79</td>\n",
              "      <td>0.65</td>\n",
              "      <td>0.21</td>\n",
              "      <td>0.14</td>\n",
              "      <td>0.14</td>\n",
              "      <td>0.07</td>\n",
              "      <td>0.28</td>\n",
              "      <td>3.47</td>\n",
              "      <td>0.00</td>\n",
              "      <td>1.59</td>\n",
              "      <td>0.0</td>\n",
              "      <td>0.43</td>\n",
              "      <td>0.43</td>\n",
              "      <td>0.0</td>\n",
              "      <td>0.0</td>\n",
              "      <td>0.0</td>\n",
              "      <td>0.0</td>\n",
              "      <td>0.0</td>\n",
              "      <td>0.0</td>\n",
              "      <td>0.0</td>\n",
              "      <td>0.0</td>\n",
              "      <td>0.0</td>\n",
              "      <td>0.0</td>\n",
              "      <td>0.0</td>\n",
              "      <td>0.0</td>\n",
              "      <td>0.07</td>\n",
              "      <td>0.0</td>\n",
              "      <td>0.0</td>\n",
              "      <td>0.00</td>\n",
              "      <td>0.0</td>\n",
              "      <td>0.0</td>\n",
              "      <td>0.00</td>\n",
              "      <td>0.0</td>\n",
              "      <td>0.00</td>\n",
              "      <td>0.00</td>\n",
              "      <td>0.0</td>\n",
              "      <td>0.0</td>\n",
              "      <td>0.00</td>\n",
              "      <td>0.132</td>\n",
              "      <td>0.0</td>\n",
              "      <td>0.372</td>\n",
              "      <td>0.180</td>\n",
              "      <td>0.048</td>\n",
              "      <td>5.114</td>\n",
              "      <td>101</td>\n",
              "      <td>1028</td>\n",
              "      <td>1</td>\n",
              "    </tr>\n",
              "    <tr>\n",
              "      <th>1</th>\n",
              "      <td>0.06</td>\n",
              "      <td>0.00</td>\n",
              "      <td>0.71</td>\n",
              "      <td>0.0</td>\n",
              "      <td>1.23</td>\n",
              "      <td>0.19</td>\n",
              "      <td>0.19</td>\n",
              "      <td>0.12</td>\n",
              "      <td>0.64</td>\n",
              "      <td>0.25</td>\n",
              "      <td>0.38</td>\n",
              "      <td>0.45</td>\n",
              "      <td>0.12</td>\n",
              "      <td>0.00</td>\n",
              "      <td>1.75</td>\n",
              "      <td>0.06</td>\n",
              "      <td>0.06</td>\n",
              "      <td>1.03</td>\n",
              "      <td>1.36</td>\n",
              "      <td>0.32</td>\n",
              "      <td>0.51</td>\n",
              "      <td>0.0</td>\n",
              "      <td>1.16</td>\n",
              "      <td>0.06</td>\n",
              "      <td>0.0</td>\n",
              "      <td>0.0</td>\n",
              "      <td>0.0</td>\n",
              "      <td>0.0</td>\n",
              "      <td>0.0</td>\n",
              "      <td>0.0</td>\n",
              "      <td>0.0</td>\n",
              "      <td>0.0</td>\n",
              "      <td>0.0</td>\n",
              "      <td>0.0</td>\n",
              "      <td>0.0</td>\n",
              "      <td>0.0</td>\n",
              "      <td>0.00</td>\n",
              "      <td>0.0</td>\n",
              "      <td>0.0</td>\n",
              "      <td>0.06</td>\n",
              "      <td>0.0</td>\n",
              "      <td>0.0</td>\n",
              "      <td>0.12</td>\n",
              "      <td>0.0</td>\n",
              "      <td>0.06</td>\n",
              "      <td>0.06</td>\n",
              "      <td>0.0</td>\n",
              "      <td>0.0</td>\n",
              "      <td>0.01</td>\n",
              "      <td>0.143</td>\n",
              "      <td>0.0</td>\n",
              "      <td>0.276</td>\n",
              "      <td>0.184</td>\n",
              "      <td>0.010</td>\n",
              "      <td>9.821</td>\n",
              "      <td>485</td>\n",
              "      <td>2259</td>\n",
              "      <td>1</td>\n",
              "    </tr>\n",
              "    <tr>\n",
              "      <th>2</th>\n",
              "      <td>0.00</td>\n",
              "      <td>0.00</td>\n",
              "      <td>0.00</td>\n",
              "      <td>0.0</td>\n",
              "      <td>0.63</td>\n",
              "      <td>0.00</td>\n",
              "      <td>0.31</td>\n",
              "      <td>0.63</td>\n",
              "      <td>0.31</td>\n",
              "      <td>0.63</td>\n",
              "      <td>0.31</td>\n",
              "      <td>0.31</td>\n",
              "      <td>0.31</td>\n",
              "      <td>0.00</td>\n",
              "      <td>0.00</td>\n",
              "      <td>0.31</td>\n",
              "      <td>0.00</td>\n",
              "      <td>0.00</td>\n",
              "      <td>3.18</td>\n",
              "      <td>0.00</td>\n",
              "      <td>0.31</td>\n",
              "      <td>0.0</td>\n",
              "      <td>0.00</td>\n",
              "      <td>0.00</td>\n",
              "      <td>0.0</td>\n",
              "      <td>0.0</td>\n",
              "      <td>0.0</td>\n",
              "      <td>0.0</td>\n",
              "      <td>0.0</td>\n",
              "      <td>0.0</td>\n",
              "      <td>0.0</td>\n",
              "      <td>0.0</td>\n",
              "      <td>0.0</td>\n",
              "      <td>0.0</td>\n",
              "      <td>0.0</td>\n",
              "      <td>0.0</td>\n",
              "      <td>0.00</td>\n",
              "      <td>0.0</td>\n",
              "      <td>0.0</td>\n",
              "      <td>0.00</td>\n",
              "      <td>0.0</td>\n",
              "      <td>0.0</td>\n",
              "      <td>0.00</td>\n",
              "      <td>0.0</td>\n",
              "      <td>0.00</td>\n",
              "      <td>0.00</td>\n",
              "      <td>0.0</td>\n",
              "      <td>0.0</td>\n",
              "      <td>0.00</td>\n",
              "      <td>0.137</td>\n",
              "      <td>0.0</td>\n",
              "      <td>0.137</td>\n",
              "      <td>0.000</td>\n",
              "      <td>0.000</td>\n",
              "      <td>3.537</td>\n",
              "      <td>40</td>\n",
              "      <td>191</td>\n",
              "      <td>1</td>\n",
              "    </tr>\n",
              "  </tbody>\n",
              "</table>\n",
              "</div>"
            ],
            "text/plain": [
              "      0  0.64  0.64.1  0.1  0.32   0.2  ...   0.43   0.44  3.756   61   278  1\n",
              "0  0.21  0.28    0.50  0.0  0.14  0.28  ...  0.180  0.048  5.114  101  1028  1\n",
              "1  0.06  0.00    0.71  0.0  1.23  0.19  ...  0.184  0.010  9.821  485  2259  1\n",
              "2  0.00  0.00    0.00  0.0  0.63  0.00  ...  0.000  0.000  3.537   40   191  1\n",
              "\n",
              "[3 rows x 58 columns]"
            ]
          },
          "metadata": {
            "tags": []
          },
          "execution_count": 130
        }
      ]
    },
    {
      "cell_type": "code",
      "metadata": {
        "id": "e9AzGcZFrIIr",
        "outputId": "9fccbfb8-d60e-4e62-d92c-ea65ba631562",
        "colab": {
          "base_uri": "https://localhost:8080/",
          "height": 158
        }
      },
      "source": [
        "# Previewing the bottom of our datasets\n",
        "data.tail(3)"
      ],
      "execution_count": 131,
      "outputs": [
        {
          "output_type": "execute_result",
          "data": {
            "text/html": [
              "<div>\n",
              "<style scoped>\n",
              "    .dataframe tbody tr th:only-of-type {\n",
              "        vertical-align: middle;\n",
              "    }\n",
              "\n",
              "    .dataframe tbody tr th {\n",
              "        vertical-align: top;\n",
              "    }\n",
              "\n",
              "    .dataframe thead th {\n",
              "        text-align: right;\n",
              "    }\n",
              "</style>\n",
              "<table border=\"1\" class=\"dataframe\">\n",
              "  <thead>\n",
              "    <tr style=\"text-align: right;\">\n",
              "      <th></th>\n",
              "      <th>0</th>\n",
              "      <th>0.64</th>\n",
              "      <th>0.64.1</th>\n",
              "      <th>0.1</th>\n",
              "      <th>0.32</th>\n",
              "      <th>0.2</th>\n",
              "      <th>0.3</th>\n",
              "      <th>0.4</th>\n",
              "      <th>0.5</th>\n",
              "      <th>0.6</th>\n",
              "      <th>0.7</th>\n",
              "      <th>0.64.2</th>\n",
              "      <th>0.8</th>\n",
              "      <th>0.9</th>\n",
              "      <th>0.10</th>\n",
              "      <th>0.32.1</th>\n",
              "      <th>0.11</th>\n",
              "      <th>1.29</th>\n",
              "      <th>1.93</th>\n",
              "      <th>0.12</th>\n",
              "      <th>0.96</th>\n",
              "      <th>0.13</th>\n",
              "      <th>0.14</th>\n",
              "      <th>0.15</th>\n",
              "      <th>0.16</th>\n",
              "      <th>0.17</th>\n",
              "      <th>0.18</th>\n",
              "      <th>0.19</th>\n",
              "      <th>0.20</th>\n",
              "      <th>0.21</th>\n",
              "      <th>0.22</th>\n",
              "      <th>0.23</th>\n",
              "      <th>0.24</th>\n",
              "      <th>0.25</th>\n",
              "      <th>0.26</th>\n",
              "      <th>0.27</th>\n",
              "      <th>0.28</th>\n",
              "      <th>0.29</th>\n",
              "      <th>0.30</th>\n",
              "      <th>0.31</th>\n",
              "      <th>0.32.2</th>\n",
              "      <th>0.33</th>\n",
              "      <th>0.34</th>\n",
              "      <th>0.35</th>\n",
              "      <th>0.36</th>\n",
              "      <th>0.37</th>\n",
              "      <th>0.38</th>\n",
              "      <th>0.39</th>\n",
              "      <th>0.40</th>\n",
              "      <th>0.41</th>\n",
              "      <th>0.42</th>\n",
              "      <th>0.778</th>\n",
              "      <th>0.43</th>\n",
              "      <th>0.44</th>\n",
              "      <th>3.756</th>\n",
              "      <th>61</th>\n",
              "      <th>278</th>\n",
              "      <th>1</th>\n",
              "    </tr>\n",
              "  </thead>\n",
              "  <tbody>\n",
              "    <tr>\n",
              "      <th>4597</th>\n",
              "      <td>0.30</td>\n",
              "      <td>0.0</td>\n",
              "      <td>0.30</td>\n",
              "      <td>0.0</td>\n",
              "      <td>0.00</td>\n",
              "      <td>0.0</td>\n",
              "      <td>0.0</td>\n",
              "      <td>0.0</td>\n",
              "      <td>0.0</td>\n",
              "      <td>0.0</td>\n",
              "      <td>0.0</td>\n",
              "      <td>1.80</td>\n",
              "      <td>0.30</td>\n",
              "      <td>0.0</td>\n",
              "      <td>0.0</td>\n",
              "      <td>0.0</td>\n",
              "      <td>0.0</td>\n",
              "      <td>0.9</td>\n",
              "      <td>1.50</td>\n",
              "      <td>0.0</td>\n",
              "      <td>0.30</td>\n",
              "      <td>0.0</td>\n",
              "      <td>0.0</td>\n",
              "      <td>0.0</td>\n",
              "      <td>0.0</td>\n",
              "      <td>0.0</td>\n",
              "      <td>0.0</td>\n",
              "      <td>0.0</td>\n",
              "      <td>0.0</td>\n",
              "      <td>0.0</td>\n",
              "      <td>0.0</td>\n",
              "      <td>0.0</td>\n",
              "      <td>0.0</td>\n",
              "      <td>0.0</td>\n",
              "      <td>0.0</td>\n",
              "      <td>0.0</td>\n",
              "      <td>0.0</td>\n",
              "      <td>0.0</td>\n",
              "      <td>0.0</td>\n",
              "      <td>0.0</td>\n",
              "      <td>0.0</td>\n",
              "      <td>0.0</td>\n",
              "      <td>0.0</td>\n",
              "      <td>0.00</td>\n",
              "      <td>0.00</td>\n",
              "      <td>1.20</td>\n",
              "      <td>0.0</td>\n",
              "      <td>0.0</td>\n",
              "      <td>0.102</td>\n",
              "      <td>0.718</td>\n",
              "      <td>0.0</td>\n",
              "      <td>0.000</td>\n",
              "      <td>0.0</td>\n",
              "      <td>0.0</td>\n",
              "      <td>1.404</td>\n",
              "      <td>6</td>\n",
              "      <td>118</td>\n",
              "      <td>0</td>\n",
              "    </tr>\n",
              "    <tr>\n",
              "      <th>4598</th>\n",
              "      <td>0.96</td>\n",
              "      <td>0.0</td>\n",
              "      <td>0.00</td>\n",
              "      <td>0.0</td>\n",
              "      <td>0.32</td>\n",
              "      <td>0.0</td>\n",
              "      <td>0.0</td>\n",
              "      <td>0.0</td>\n",
              "      <td>0.0</td>\n",
              "      <td>0.0</td>\n",
              "      <td>0.0</td>\n",
              "      <td>0.32</td>\n",
              "      <td>0.00</td>\n",
              "      <td>0.0</td>\n",
              "      <td>0.0</td>\n",
              "      <td>0.0</td>\n",
              "      <td>0.0</td>\n",
              "      <td>0.0</td>\n",
              "      <td>1.93</td>\n",
              "      <td>0.0</td>\n",
              "      <td>0.32</td>\n",
              "      <td>0.0</td>\n",
              "      <td>0.0</td>\n",
              "      <td>0.0</td>\n",
              "      <td>0.0</td>\n",
              "      <td>0.0</td>\n",
              "      <td>0.0</td>\n",
              "      <td>0.0</td>\n",
              "      <td>0.0</td>\n",
              "      <td>0.0</td>\n",
              "      <td>0.0</td>\n",
              "      <td>0.0</td>\n",
              "      <td>0.0</td>\n",
              "      <td>0.0</td>\n",
              "      <td>0.0</td>\n",
              "      <td>0.0</td>\n",
              "      <td>0.0</td>\n",
              "      <td>0.0</td>\n",
              "      <td>0.0</td>\n",
              "      <td>0.0</td>\n",
              "      <td>0.0</td>\n",
              "      <td>0.0</td>\n",
              "      <td>0.0</td>\n",
              "      <td>0.32</td>\n",
              "      <td>0.00</td>\n",
              "      <td>0.32</td>\n",
              "      <td>0.0</td>\n",
              "      <td>0.0</td>\n",
              "      <td>0.000</td>\n",
              "      <td>0.057</td>\n",
              "      <td>0.0</td>\n",
              "      <td>0.000</td>\n",
              "      <td>0.0</td>\n",
              "      <td>0.0</td>\n",
              "      <td>1.147</td>\n",
              "      <td>5</td>\n",
              "      <td>78</td>\n",
              "      <td>0</td>\n",
              "    </tr>\n",
              "    <tr>\n",
              "      <th>4599</th>\n",
              "      <td>0.00</td>\n",
              "      <td>0.0</td>\n",
              "      <td>0.65</td>\n",
              "      <td>0.0</td>\n",
              "      <td>0.00</td>\n",
              "      <td>0.0</td>\n",
              "      <td>0.0</td>\n",
              "      <td>0.0</td>\n",
              "      <td>0.0</td>\n",
              "      <td>0.0</td>\n",
              "      <td>0.0</td>\n",
              "      <td>0.00</td>\n",
              "      <td>0.65</td>\n",
              "      <td>0.0</td>\n",
              "      <td>0.0</td>\n",
              "      <td>0.0</td>\n",
              "      <td>0.0</td>\n",
              "      <td>0.0</td>\n",
              "      <td>4.60</td>\n",
              "      <td>0.0</td>\n",
              "      <td>0.65</td>\n",
              "      <td>0.0</td>\n",
              "      <td>0.0</td>\n",
              "      <td>0.0</td>\n",
              "      <td>0.0</td>\n",
              "      <td>0.0</td>\n",
              "      <td>0.0</td>\n",
              "      <td>0.0</td>\n",
              "      <td>0.0</td>\n",
              "      <td>0.0</td>\n",
              "      <td>0.0</td>\n",
              "      <td>0.0</td>\n",
              "      <td>0.0</td>\n",
              "      <td>0.0</td>\n",
              "      <td>0.0</td>\n",
              "      <td>0.0</td>\n",
              "      <td>0.0</td>\n",
              "      <td>0.0</td>\n",
              "      <td>0.0</td>\n",
              "      <td>0.0</td>\n",
              "      <td>0.0</td>\n",
              "      <td>0.0</td>\n",
              "      <td>0.0</td>\n",
              "      <td>0.00</td>\n",
              "      <td>1.97</td>\n",
              "      <td>0.65</td>\n",
              "      <td>0.0</td>\n",
              "      <td>0.0</td>\n",
              "      <td>0.000</td>\n",
              "      <td>0.000</td>\n",
              "      <td>0.0</td>\n",
              "      <td>0.125</td>\n",
              "      <td>0.0</td>\n",
              "      <td>0.0</td>\n",
              "      <td>1.250</td>\n",
              "      <td>5</td>\n",
              "      <td>40</td>\n",
              "      <td>0</td>\n",
              "    </tr>\n",
              "  </tbody>\n",
              "</table>\n",
              "</div>"
            ],
            "text/plain": [
              "         0  0.64  0.64.1  0.1  0.32  0.2  ...  0.43  0.44  3.756  61  278  1\n",
              "4597  0.30   0.0    0.30  0.0  0.00  0.0  ...   0.0   0.0  1.404   6  118  0\n",
              "4598  0.96   0.0    0.00  0.0  0.32  0.0  ...   0.0   0.0  1.147   5   78  0\n",
              "4599  0.00   0.0    0.65  0.0  0.00  0.0  ...   0.0   0.0  1.250   5   40  0\n",
              "\n",
              "[3 rows x 58 columns]"
            ]
          },
          "metadata": {
            "tags": []
          },
          "execution_count": 131
        }
      ]
    },
    {
      "cell_type": "code",
      "metadata": {
        "id": "n8-dW4sQWzbc",
        "outputId": "a4443a26-3eb3-484b-e131-76fc65cd3743",
        "colab": {
          "base_uri": "https://localhost:8080/",
          "height": 1000
        }
      },
      "source": [
        "# Checking whether each column has an appropriate datatype\n",
        "data.dtypes"
      ],
      "execution_count": 132,
      "outputs": [
        {
          "output_type": "execute_result",
          "data": {
            "text/plain": [
              "0         float64\n",
              "0.64      float64\n",
              "0.64.1    float64\n",
              "0.1       float64\n",
              "0.32      float64\n",
              "0.2       float64\n",
              "0.3       float64\n",
              "0.4       float64\n",
              "0.5       float64\n",
              "0.6       float64\n",
              "0.7       float64\n",
              "0.64.2    float64\n",
              "0.8       float64\n",
              "0.9       float64\n",
              "0.10      float64\n",
              "0.32.1    float64\n",
              "0.11      float64\n",
              "1.29      float64\n",
              "1.93      float64\n",
              "0.12      float64\n",
              "0.96      float64\n",
              "0.13      float64\n",
              "0.14      float64\n",
              "0.15      float64\n",
              "0.16      float64\n",
              "0.17      float64\n",
              "0.18      float64\n",
              "0.19      float64\n",
              "0.20      float64\n",
              "0.21      float64\n",
              "0.22      float64\n",
              "0.23      float64\n",
              "0.24      float64\n",
              "0.25      float64\n",
              "0.26      float64\n",
              "0.27      float64\n",
              "0.28      float64\n",
              "0.29      float64\n",
              "0.30      float64\n",
              "0.31      float64\n",
              "0.32.2    float64\n",
              "0.33      float64\n",
              "0.34      float64\n",
              "0.35      float64\n",
              "0.36      float64\n",
              "0.37      float64\n",
              "0.38      float64\n",
              "0.39      float64\n",
              "0.40      float64\n",
              "0.41      float64\n",
              "0.42      float64\n",
              "0.778     float64\n",
              "0.43      float64\n",
              "0.44      float64\n",
              "3.756     float64\n",
              "61          int64\n",
              "278         int64\n",
              "1           int64\n",
              "dtype: object"
            ]
          },
          "metadata": {
            "tags": []
          },
          "execution_count": 132
        }
      ]
    },
    {
      "cell_type": "markdown",
      "metadata": {
        "id": "ckfufNrcUHeH"
      },
      "source": [
        "## 4. External Data Source Validation"
      ]
    },
    {
      "cell_type": "markdown",
      "metadata": {
        "id": "6XC_g-zKxe-r"
      },
      "source": [
        "### a.Validation"
      ]
    },
    {
      "cell_type": "markdown",
      "metadata": {
        "id": "FlBMxEDBUc9B"
      },
      "source": [
        "## 5. Tidying the Dataset"
      ]
    },
    {
      "cell_type": "code",
      "metadata": {
        "id": "5o_bQcT5W3Wz",
        "outputId": "572873aa-d432-48fe-e65b-c23640ee8a28",
        "colab": {
          "base_uri": "https://localhost:8080/",
          "height": 229
        }
      },
      "source": [
        "# Checking for Outliers\n",
        "data.boxplot(figsize=(7,3))"
      ],
      "execution_count": 133,
      "outputs": [
        {
          "output_type": "execute_result",
          "data": {
            "text/plain": [
              "<matplotlib.axes._subplots.AxesSubplot at 0x7fe482857080>"
            ]
          },
          "metadata": {
            "tags": []
          },
          "execution_count": 133
        },
        {
          "output_type": "display_data",
          "data": {
            "image/png": "[encoded data removed]",
            "text/plain": [
              "<Figure size 504x216 with 1 Axes>"
            ]
          },
          "metadata": {
            "tags": [],
            "needs_background": "light"
          }
        }
      ]
    },
    {
      "cell_type": "markdown",
      "metadata": {
        "id": "Il28EgazYArW"
      },
      "source": [
        "The last few columns seem to have outliers. Lets preview them after renaming all columns."
      ]
    },
    {
      "cell_type": "code",
      "metadata": {
        "id": "XpY_2CUrS5Us"
      },
      "source": [
        "data.columns = data.columns.str.replace('.', 'att')\n",
        "data.columns = data.columns.str.replace('61', 'att61')\n",
        "data.columns = data.columns.str.replace('278', 'att278')"
      ],
      "execution_count": 134,
      "outputs": []
    },
    {
      "cell_type": "code",
      "metadata": {
        "id": "_qAF0F0hmVDB",
        "outputId": "33abbc54-3636-4df0-9ca3-fa1847a14c3b",
        "colab": {
          "base_uri": "https://localhost:8080/",
          "height": 283
        }
      },
      "source": [
        "\n",
        "df = pd.DataFrame(data = data, columns = ['0att43','0att44','3att756', 'att61', 'att278', '1'])\n",
        "df.boxplot()"
      ],
      "execution_count": 135,
      "outputs": [
        {
          "output_type": "execute_result",
          "data": {
            "text/plain": [
              "<matplotlib.axes._subplots.AxesSubplot at 0x7fe48234fb38>"
            ]
          },
          "metadata": {
            "tags": []
          },
          "execution_count": 135
        },
        {
          "output_type": "display_data",
          "data": {
            "image/png": "[encoded data removed]",
            "text/plain": [
              "<Figure size 432x288 with 1 Axes>"
            ]
          },
          "metadata": {
            "tags": [],
            "needs_background": "light"
          }
        }
      ]
    },
    {
      "cell_type": "code",
      "metadata": {
        "id": "BmS_LdY72Nry",
        "outputId": "447c1206-16f0-473f-cf48-e29682fee49c",
        "colab": {
          "base_uri": "https://localhost:8080/",
          "height": 229
        }
      },
      "source": [
        "#Dealing with Outliers\n",
        "\n",
        "#Dropping some of the points that seem to be outliers. Since theyre many, it means they may be part\n",
        "#of our data hence meaningful. For this reason, the quantiles used for removing some of the outliers\n",
        "# will be the 10th and 90th quantiles\n",
        "\n",
        "Q1 = data[['3att756', 'att61', 'att278', '1']].quantile(0.10)\n",
        "Q3 = data[['3att756', 'att61', 'att278', '1']].quantile(0.90)\n",
        "IQR = Q3 - Q1\n",
        "\n",
        "#creating a new variable to store our data that has no outliers\n",
        "data1 = data[~((data > (Q3 + 1.5 * IQR)))]\n",
        "data1.boxplot(figsize=(7,3))"
      ],
      "execution_count": 136,
      "outputs": [
        {
          "output_type": "execute_result",
          "data": {
            "text/plain": [
              "<matplotlib.axes._subplots.AxesSubplot at 0x7fe482226cf8>"
            ]
          },
          "metadata": {
            "tags": []
          },
          "execution_count": 136
        },
        {
          "output_type": "display_data",
          "data": {
            "image/png": "[encoded data removed]",
            "text/plain": [
              "<Figure size 504x216 with 1 Axes>"
            ]
          },
          "metadata": {
            "tags": [],
            "needs_background": "light"
          }
        }
      ]
    },
    {
      "cell_type": "code",
      "metadata": {
        "id": "PWlukLKUvFQN",
        "outputId": "345330a4-f058-412e-e1e3-6ea008cf038a",
        "colab": {
          "base_uri": "https://localhost:8080/",
          "height": 1000
        }
      },
      "source": [
        "# Checking for Anomalies\n",
        "data1.nunique()\n",
        "\n",
        "#Everything seems to be okay, no anomalies"
      ],
      "execution_count": 137,
      "outputs": [
        {
          "output_type": "execute_result",
          "data": {
            "text/plain": [
              "0              142\n",
              "0att64         171\n",
              "0att64att1     214\n",
              "0att1           43\n",
              "0att32         255\n",
              "0att2          141\n",
              "0att3          173\n",
              "0att4          170\n",
              "0att5          144\n",
              "0att6          245\n",
              "0att7          113\n",
              "0att64att2     316\n",
              "0att8          158\n",
              "0att9          133\n",
              "0att10         118\n",
              "0att32att1     253\n",
              "0att11         197\n",
              "1att29         229\n",
              "1att93         575\n",
              "0att12         148\n",
              "0att96         401\n",
              "0att13          99\n",
              "0att14         164\n",
              "0att15         143\n",
              "0att16         395\n",
              "0att17         281\n",
              "0att18         240\n",
              "0att19         200\n",
              "0att20         156\n",
              "0att21         179\n",
              "0att22         128\n",
              "0att23         106\n",
              "0att24         184\n",
              "0att25         110\n",
              "0att26         177\n",
              "0att27         159\n",
              "0att28         188\n",
              "0att29          53\n",
              "0att30         163\n",
              "0att31         125\n",
              "0att32att2     108\n",
              "0att33         186\n",
              "0att34         136\n",
              "0att35         160\n",
              "0att36         230\n",
              "0att37         227\n",
              "0att38          38\n",
              "0att39         106\n",
              "0att40         313\n",
              "0att41         641\n",
              "0att42         225\n",
              "0att778        963\n",
              "0att43         504\n",
              "0att44         316\n",
              "3att756       2057\n",
              "att61          180\n",
              "att278         831\n",
              "1                2\n",
              "dtype: int64"
            ]
          },
          "metadata": {
            "tags": []
          },
          "execution_count": 137
        }
      ]
    },
    {
      "cell_type": "code",
      "metadata": {
        "id": "PvCYb6dgW4yh",
        "outputId": "ae316ff0-06df-4546-f9b1-3dffba4c6544",
        "colab": {
          "base_uri": "https://localhost:8080/",
          "height": 1000
        }
      },
      "source": [
        "# Identifying the Missing Data\n",
        "data1.isnull().sum()"
      ],
      "execution_count": 139,
      "outputs": [
        {
          "output_type": "execute_result",
          "data": {
            "text/plain": [
              "0               0\n",
              "0att64          0\n",
              "0att64att1      0\n",
              "0att1           0\n",
              "0att32          0\n",
              "0att2           0\n",
              "0att3           0\n",
              "0att4           0\n",
              "0att5           0\n",
              "0att6           0\n",
              "0att7           0\n",
              "0att64att2      0\n",
              "0att8           0\n",
              "0att9           0\n",
              "0att10          0\n",
              "0att32att1      0\n",
              "0att11          0\n",
              "1att29          0\n",
              "1att93          0\n",
              "0att12          0\n",
              "0att96          0\n",
              "0att13          0\n",
              "0att14          0\n",
              "0att15          0\n",
              "0att16          0\n",
              "0att17          0\n",
              "0att18          0\n",
              "0att19          0\n",
              "0att20          0\n",
              "0att21          0\n",
              "0att22          0\n",
              "0att23          0\n",
              "0att24          0\n",
              "0att25          0\n",
              "0att26          0\n",
              "0att27          0\n",
              "0att28          0\n",
              "0att29          0\n",
              "0att30          0\n",
              "0att31          0\n",
              "0att32att2      0\n",
              "0att33          0\n",
              "0att34          0\n",
              "0att35          0\n",
              "0att36          0\n",
              "0att37          0\n",
              "0att38          0\n",
              "0att39          0\n",
              "0att40          0\n",
              "0att41          0\n",
              "0att42          0\n",
              "0att778         0\n",
              "0att43          0\n",
              "0att44          0\n",
              "3att756       132\n",
              "att61         173\n",
              "att278        102\n",
              "1               0\n",
              "dtype: int64"
            ]
          },
          "metadata": {
            "tags": []
          },
          "execution_count": 139
        }
      ]
    },
    {
      "cell_type": "code",
      "metadata": {
        "id": "Qa6F8OdXtDKu",
        "outputId": "d5a99e05-5098-432b-d23a-500c0541d2d1",
        "colab": {
          "base_uri": "https://localhost:8080/",
          "height": 35
        }
      },
      "source": [
        "#Dealing with missing data\n",
        "data1 = data1.dropna()"
      ],
      "execution_count": 140,
      "outputs": [
        {
          "output_type": "stream",
          "text": [
            "new shape (4296, 58)\n"
          ],
          "name": "stdout"
        }
      ]
    },
    {
      "cell_type": "code",
      "metadata": {
        "id": "XXPQKi6_uiZA",
        "outputId": "6c742a4b-fadd-472c-b7f9-94cde41c5c47",
        "colab": {
          "base_uri": "https://localhost:8080/",
          "height": 72
        }
      },
      "source": [
        "# Checking for Duplicates in the set\n",
        "print('Duplicates', data1.duplicated().sum())\n",
        "data1 = data1.drop_duplicates()\n",
        "print('Duplicates', data1.duplicated().sum())\n",
        "data1.shape"
      ],
      "execution_count": 143,
      "outputs": [
        {
          "output_type": "stream",
          "text": [
            "Duplicates 358\n",
            "Duplicates 0\n"
          ],
          "name": "stdout"
        },
        {
          "output_type": "execute_result",
          "data": {
            "text/plain": [
              "(3938, 58)"
            ]
          },
          "metadata": {
            "tags": []
          },
          "execution_count": 143
        }
      ]
    },
    {
      "cell_type": "markdown",
      "metadata": {
        "id": "rF2ABPsHUtbZ"
      },
      "source": [
        "## 6. Exploratory Analysis \n",
        "\n",
        "Conducting Normality tests using QQ Plot and Shapiro Wilk Test"
      ]
    },
    {
      "cell_type": "code",
      "metadata": {
        "id": "kkiuT5e9IcIE",
        "outputId": "d682b5fa-05c7-4ef5-9d02-730eab639e17",
        "colab": {
          "base_uri": "https://localhost:8080/",
          "height": 313
        }
      },
      "source": [
        "#Countplot of Spam Messages\n",
        "\n",
        "sns.countplot(x=\"1\", data=data1, hue = '1')\n",
        "plt.title('Countplot of Spam Messages:Spam(1), Not Spam(0)')\n",
        "plt.legend()"
      ],
      "execution_count": 180,
      "outputs": [
        {
          "output_type": "execute_result",
          "data": {
            "text/plain": [
              "<matplotlib.legend.Legend at 0x7fe47fc752b0>"
            ]
          },
          "metadata": {
            "tags": []
          },
          "execution_count": 180
        },
        {
          "output_type": "display_data",
          "data": {
            "image/png": "[encoded data removed]",
            "text/plain": [
              "<Figure size 432x288 with 1 Axes>"
            ]
          },
          "metadata": {
            "tags": [],
            "needs_background": "light"
          }
        }
      ]
    },
    {
      "cell_type": "code",
      "metadata": {
        "id": "-jgCM6RnxDo7",
        "outputId": "7a8aa0d2-dc91-4fb4-a0f6-057d67bfe0c1",
        "colab": {
          "base_uri": "https://localhost:8080/",
          "height": 279
        }
      },
      "source": [
        "#Checking for normality in our data\n",
        "from statsmodels.graphics.gofplots import qqplot as qq\n",
        "\n",
        "# q-q plot\n",
        "qq(data1, line='s')\n",
        "plt.show()"
      ],
      "execution_count": 153,
      "outputs": [
        {
          "output_type": "display_data",
          "data": {
            "image/png": "[encoded data removed]",
            "text/plain": [
              "<Figure size 432x288 with 1 Axes>"
            ]
          },
          "metadata": {
            "tags": [],
            "needs_background": "light"
          }
        }
      ]
    },
    {
      "cell_type": "markdown",
      "metadata": {
        "id": "tkRJHARTxekL"
      },
      "source": [
        "Our data doesnt seem to be normally distributed."
      ]
    },
    {
      "cell_type": "code",
      "metadata": {
        "id": "UCpC8X0zyH1F",
        "outputId": "986a0661-7953-4dda-adef-ff3b944276d7",
        "colab": {
          "base_uri": "https://localhost:8080/",
          "height": 54
        }
      },
      "source": [
        "# importing the shapiro library\n",
        "from scipy.stats import shapiro \n",
        "\n",
        "# testing for normality\n",
        "stat, p = shapiro(data1)\n",
        "print('Statistics=%.3f, p=%.3f' % (stat, p))\n",
        "\n",
        "# interpreting\n",
        "alpha = 0.05\n",
        "if p > alpha:\n",
        "\tprint('Sample looks Gaussian')\n",
        "else:\n",
        "\tprint('Sample does not look Gaussian')"
      ],
      "execution_count": 214,
      "outputs": [
        {
          "output_type": "stream",
          "text": [
            "Statistics=0.063, p=0.000\n",
            "Sample does not look Gaussian\n"
          ],
          "name": "stdout"
        }
      ]
    },
    {
      "cell_type": "markdown",
      "metadata": {
        "id": "vTbdjSrhVIiT"
      },
      "source": [
        "## 7. Implementing the Solution"
      ]
    },
    {
      "cell_type": "markdown",
      "metadata": {
        "id": "EMO4SZQC9VcV"
      },
      "source": [
        "##### Baseline Model\n",
        "\n",
        "We will use the Multinomial Naive Bayes Classifier because it uses discrete counts of words in a document during text classification. Binomial was not chosen because its a binary form of classification on whether a word appears or not in a document(0 or 1). Gaussian Naive Bayes is also not suitable since it makes strong assumptions of normality which is not the case with our data."
      ]
    },
    {
      "cell_type": "code",
      "metadata": {
        "id": "PJLZaRzJXJ3w"
      },
      "source": [
        "#Splitting data into X and y\n",
        "X = data1.drop(columns = ['1'])\n",
        "y = data1['1']\n",
        "\n",
        "from sklearn.model_selection import train_test_split\n",
        "\n",
        "#Splitting data\n",
        "\n",
        "X_train, X_test, y_train, y_test = train_test_split(X,y, test_size = .2, random_state = 0)"
      ],
      "execution_count": 161,
      "outputs": []
    },
    {
      "cell_type": "code",
      "metadata": {
        "id": "sx4_bM9X-OET"
      },
      "source": [
        "#Scaling data\n",
        "from sklearn.preprocessing import MinMaxScaler\n",
        "\n",
        "scaler = MinMaxScaler()\n",
        "X_train = scaler.fit_transform(X_train)\n",
        "X_test = scaler.transform(X_test)"
      ],
      "execution_count": 163,
      "outputs": []
    },
    {
      "cell_type": "code",
      "metadata": {
        "id": "t9zN-6dl__Nd",
        "outputId": "8e517847-d03f-42b7-d8b1-e592b4501cec",
        "colab": {
          "base_uri": "https://localhost:8080/",
          "height": 72
        }
      },
      "source": [
        "#Modelling using MultinomialNB\n",
        "from sklearn.naive_bayes import MultinomialNB\n",
        "from sklearn import metrics\n",
        "from sklearn.metrics import accuracy_score, confusion_matrix\n",
        "\n",
        "\n",
        "#creating our model\n",
        "model = MultinomialNB().fit(X_train, y_train)\n",
        "\n",
        "#Prediction\n",
        "y_pred = model.predict(X_test)\n",
        "\n",
        "#Checking metrics and evaluation\n",
        "print(np.mean(y_pred == y_test))  #percentage of correct classification\n",
        "print(confusion_matrix(y_pred , y_test))\n",
        "baseline_accuracy = np.mean(y_pred == y_test) #for comparisons in the next models"
      ],
      "execution_count": 189,
      "outputs": [
        {
          "output_type": "stream",
          "text": [
            "0.8769035532994924\n",
            "[[451  77]\n",
            " [ 20 240]]\n"
          ],
          "name": "stdout"
        }
      ]
    },
    {
      "cell_type": "markdown",
      "metadata": {
        "id": "AfHsSKvbc02C"
      },
      "source": [
        "The confusion matrix tells us we have 451 True Positive Predictions and 240 True Negative predictions"
      ]
    },
    {
      "cell_type": "markdown",
      "metadata": {
        "id": "jWVGKGuiYMWg"
      },
      "source": [
        "##### Optimisation\n",
        "\n",
        "*   Applying ensembling, bagging and boosting techniques may not work because the Naive Bayes Classifier has no variance to minimize.\n",
        "\n",
        "*   Our data has cases of Zero Freaquency. Therefore we can apply smoothing techniques such as Laplace or Lidstone Correction to improve performance or we can drop Highly Correlated Features.\n",
        "\n",
        "\n",
        "*   In this case, we apply Laplace correction.\n",
        "\n",
        "The smoothing priors alpha>=0 accounts for features not present in the learning samples and prevents zero probabilities in further computations. Setting alpha = 1 is called Laplace smoothing, while alpha<1 is called Lidstone smoothing.\n",
        "\n",
        "\n",
        "\n",
        "\n",
        "\n",
        "\n"
      ]
    },
    {
      "cell_type": "code",
      "metadata": {
        "id": "YH2OP9tXlhhV",
        "outputId": "1ae15629-6d81-4be4-a7d5-9776c3ba2352",
        "colab": {
          "base_uri": "https://localhost:8080/",
          "height": 35
        }
      },
      "source": [
        "# Create correlation matrix\n",
        "#corr_matrix = data1.corr().abs()\n",
        "\n",
        "# Select upper triangle of correlation matrix\n",
        "#upper = corr_matrix.where(np.triu(np.ones(corr_matrix.shape), k=1).astype(np.bool))\n",
        "\n",
        "# Find index of feature columns with correlation greater than 0.95\n",
        "#to_drop = [column for column in upper.columns if any(upper[column] > 0.95)]\n",
        "\n",
        "# Drop Highly correlated features \n",
        "#data2 = data1.drop(columns=to_drop, axis=1)\n",
        "#data2.shape"
      ],
      "execution_count": 197,
      "outputs": [
        {
          "output_type": "execute_result",
          "data": {
            "text/plain": [
              "(3938, 57)"
            ]
          },
          "metadata": {
            "tags": []
          },
          "execution_count": 197
        }
      ]
    },
    {
      "cell_type": "code",
      "metadata": {
        "id": "QZlxCE3aoY06",
        "outputId": "d31348ea-f02c-4b36-b463-944b2d0f7a24",
        "colab": {
          "base_uri": "https://localhost:8080/",
          "height": 90
        }
      },
      "source": [
        "#Splitting data into X and y\n",
        "X = data2.drop(columns = ['1'])\n",
        "y = data2['1']\n",
        "\n",
        "#Splitting data\n",
        "\n",
        "X_train, X_test, y_train, y_test = train_test_split(X,y, test_size = .2, random_state = 0)\n",
        "\n",
        "#Scaling\n",
        "scaler = MinMaxScaler()\n",
        "X_train = scaler.fit_transform(X_train)\n",
        "X_test = scaler.transform(X_test)\n",
        "\n",
        "#Modelling using MultinomialNB\n",
        "model = MultinomialNB(alpha=1).fit(X_train, y_train)\n",
        "\n",
        "#Prediction\n",
        "y_pred = model.predict(X_test)\n",
        "\n",
        "#Checking metrics and evaluation\n",
        "print(np.mean(y_pred == y_test))  #percentage of correct classification\n",
        "print(confusion_matrix(y_pred , y_test))\n",
        "new_accuracy = np.mean(y_pred == y_test) \n",
        "print('After Laplace Smoothing, Accuracy Improvement is {:0.2f}%.'.format( 100 * (new_accuracy - baseline_accuracy) / baseline_accuracy))"
      ],
      "execution_count": 220,
      "outputs": [
        {
          "output_type": "stream",
          "text": [
            "0.8743654822335025\n",
            "[[452  80]\n",
            " [ 19 237]]\n",
            "After Laplace Smoothing, Accuracy Improvement is -0.29%.\n"
          ],
          "name": "stdout"
        }
      ]
    },
    {
      "cell_type": "markdown",
      "metadata": {
        "id": "5OfsqUw8qpnx"
      },
      "source": [
        "Tuned Model Performs slightly worse than Baseline Model. We stick to Baseline Model. Matrix Reaveals 452 True Positive predictions and 237 True Negative Predictions."
      ]
    },
    {
      "cell_type": "markdown",
      "metadata": {
        "id": "yPpQ7cqJqwOb"
      },
      "source": [
        "##### Changing test_size to 30 and 40\n",
        "\n",
        "i.e. Using Baseline Model"
      ]
    },
    {
      "cell_type": "code",
      "metadata": {
        "id": "3GNjsesddUEI",
        "outputId": "239cfd40-bf45-4d87-e638-40b2031bf916",
        "colab": {
          "base_uri": "https://localhost:8080/",
          "height": 90
        }
      },
      "source": [
        "#Splitting data\n",
        "\n",
        "X_train, X_test, y_train, y_test = train_test_split(X,y, test_size = .3, random_state = 0)\n",
        "\n",
        "#Scaling\n",
        "scaler = MinMaxScaler()\n",
        "X_train = scaler.fit_transform(X_train)\n",
        "X_test = scaler.transform(X_test)\n",
        "\n",
        "#Modelling using MultinomialNB\n",
        "model = MultinomialNB().fit(X_train, y_train)\n",
        "\n",
        "#Prediction\n",
        "y_pred = model.predict(X_test)\n",
        "\n",
        "#Checking metrics and evaluation\n",
        "print(np.mean(y_pred == y_test))  #percentage of correct classification\n",
        "print(confusion_matrix(y_pred , y_test))\n",
        "new_accuracy = np.mean(y_pred == y_test) \n",
        "print('With test_size 0.3, Accuracy Improvement is {:0.2f}%.'.format( 100 * (new_accuracy - baseline_accuracy) / baseline_accuracy))"
      ],
      "execution_count": 221,
      "outputs": [
        {
          "output_type": "stream",
          "text": [
            "0.8764805414551607\n",
            "[[700 116]\n",
            " [ 30 336]]\n",
            "With test_size 0.3, Accuracy Improvement is -0.05%.\n"
          ],
          "name": "stdout"
        }
      ]
    },
    {
      "cell_type": "markdown",
      "metadata": {
        "id": "5-EaHwSnuK00"
      },
      "source": [
        "Matrix reveals 700 true positive predictions and 336 true negative predictions. Test_size of 0.3 reduces performance."
      ]
    },
    {
      "cell_type": "code",
      "metadata": {
        "id": "fea9omrMtLTu",
        "outputId": "7fedcee9-6245-4474-ce8b-ddc30b7f52fe",
        "colab": {
          "base_uri": "https://localhost:8080/",
          "height": 90
        }
      },
      "source": [
        "#Splitting data\n",
        "\n",
        "X_train, X_test, y_train, y_test = train_test_split(X,y, test_size = .4, random_state = 0)\n",
        "\n",
        "#Scaling\n",
        "scaler = MinMaxScaler()\n",
        "X_train = scaler.fit_transform(X_train)\n",
        "X_test = scaler.transform(X_test)\n",
        "\n",
        "#Modelling using MultinomialNB\n",
        "model = MultinomialNB().fit(X_train, y_train)\n",
        "\n",
        "#Prediction\n",
        "y_pred = model.predict(X_test)\n",
        "\n",
        "#Checking metrics and evaluation\n",
        "print(np.mean(y_pred == y_test))  #percentage of correct classification\n",
        "print(confusion_matrix(y_pred , y_test))\n",
        "new_accuracy = np.mean(y_pred == y_test) \n",
        "print('With test_size 0.4, Accuracy Improvement is {:0.2f}%.'.format( 100 * (new_accuracy - baseline_accuracy) / baseline_accuracy))"
      ],
      "execution_count": 222,
      "outputs": [
        {
          "output_type": "stream",
          "text": [
            "0.8794416243654822\n",
            "[[937 149]\n",
            " [ 41 449]]\n",
            "With test_size 0.4, Accuracy Improvement is 0.29%.\n"
          ],
          "name": "stdout"
        }
      ]
    },
    {
      "cell_type": "markdown",
      "metadata": {
        "id": "mphZ8ZGftTsb"
      },
      "source": [
        "Matrix reveals 937 true positives and 449 true negatives. Therefore, the best and recommended test_size to choose for this dataset is 0.4 becasue it has fewer false positives/negatives and a slightly better accuracy score."
      ]
    },
    {
      "cell_type": "markdown",
      "metadata": {
        "id": "lQ2G4ZPDVOXE"
      },
      "source": [
        "## 8. Challenging the solution"
      ]
    },
    {
      "cell_type": "markdown",
      "metadata": {
        "id": "qYf95itYvE3X"
      },
      "source": [
        "We should never allow our solution to hold the day. Therefore, to challenge our solution, we can use other models such as SVM or Random Forests to see whether they perform better on our dataset."
      ]
    },
    {
      "cell_type": "code",
      "metadata": {
        "id": "rsLtCu6TgJHd",
        "outputId": "76c759d6-d401-41c3-c0fc-943af338a08b",
        "colab": {
          "base_uri": "https://localhost:8080/",
          "height": 54
        }
      },
      "source": [
        "#importing additional model libraries\n",
        "from sklearn.svm import SVC\n",
        "from sklearn.ensemble import RandomForestClassifier\n",
        "import scipy.stats as sp\n",
        "from scipy.stats import randint as sp_randint\n",
        "from sklearn.model_selection import RandomizedSearchCV\n",
        "from sklearn.model_selection import KFold\n",
        "from sklearn.model_selection import cross_val_score\n",
        "\n",
        "#Specifying our hyperparameters\n",
        "\n",
        "param_dist = {\"max_depth\": [3, None],\n",
        "              \"max_features\": sp_randint(1, 11),\n",
        "              \"min_samples_split\": sp_randint(2, 11),\n",
        "              \"bootstrap\": [True, False],\n",
        "              \"criterion\": [\"gini\", \"entropy\"]}\n",
        "\n",
        "#Splitting data with test_size 0.4\n",
        "\n",
        "X_train, X_test, y_train, y_test = train_test_split(X,y, test_size = .4, random_state = 0)\n",
        "\n",
        "#Instantiating classifier to store classification models\n",
        "classifier = []\n",
        "\n",
        "#Appending different classification models to our classifier\n",
        "classifier.append(('Random Forest ', RandomForestClassifier()))\n",
        "classifier.append(('SVC ', SVC()))\n",
        "\n",
        "##Hyperparameter tuning using Random search with 5 folds\n",
        "random_search = RandomizedSearchCV(classifier, param_dist, cv = 5)\n",
        "\n",
        "#instatiating empty lists to store model names and results\n",
        "m_results =[]\n",
        "names = []\n",
        "\n",
        "#Looping the classification model and results\n",
        "for name, model in classifier:\n",
        "   kfold = KFold(n_splits=5, random_state=0)\n",
        "   model_results = cross_val_score(model, X_train, y_train, cv=kfold, scoring='accuracy')\n",
        "   m_results.append(model_results)\n",
        "   names.append(name)\n",
        "   print(\"%s: %f (%f)\" % (name, model_results.mean(), model_results.std()))"
      ],
      "execution_count": 236,
      "outputs": [
        {
          "output_type": "stream",
          "text": [
            "Random Forest : 0.945806 (0.007432)\n",
            "SVC : 0.715919 (0.021617)\n"
          ],
          "name": "stdout"
        }
      ]
    },
    {
      "cell_type": "markdown",
      "metadata": {
        "id": "deCvBzg7jsze"
      },
      "source": [
        "From the results above, Random Forest seems to be an alternative model for use in this classification."
      ]
    },
    {
      "cell_type": "markdown",
      "metadata": {
        "id": "xrmHVMVsVS--"
      },
      "source": [
        "## 9. Follow up questions"
      ]
    },
    {
      "cell_type": "markdown",
      "metadata": {
        "id": "HPQviDmNtta8"
      },
      "source": [
        "### a). Did we have the right data?\n",
        "\n",
        "The data was right and substantial."
      ]
    },
    {
      "cell_type": "markdown",
      "metadata": {
        "id": "qjFHK1CKty7o"
      },
      "source": [
        "### b). Do we need other data to answer our question?\n",
        "\n",
        "No."
      ]
    },
    {
      "cell_type": "markdown",
      "metadata": {
        "id": "HSsicSdvt4Zs"
      },
      "source": [
        "### c). Did we have the right question?\n",
        "\n",
        "There was no question but the question would be, classyfying whether an email message is spam or not."
      ]
    },
    {
      "cell_type": "markdown",
      "metadata": {
        "id": "xTB3kwYAlaIn"
      },
      "source": [
        "#### Conclusion\n",
        "\n",
        "In conclusion, the Multinomial Naive Bayes Baseline Model performed better with a test_size of 0.4. However, upon challenging the solution, it would be good to also model our data and perform classification using Random Forest."
      ]
    }
  ]
}