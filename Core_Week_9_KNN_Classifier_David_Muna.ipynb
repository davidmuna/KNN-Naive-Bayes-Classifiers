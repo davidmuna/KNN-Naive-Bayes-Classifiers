{
  "nbformat": 4,
  "nbformat_minor": 0,
  "metadata": {
    "colab": {
      "name": "Core Week 9 KNN Classifier-David Muna",
      "provenance": [],
      "collapsed_sections": [
        "J4wfHZwQrs-t",
        "zSGyg6kWsBUl",
        "HPQviDmNtta8",
        "qjFHK1CKty7o",
        "HSsicSdvt4Zs"
      ],
      "include_colab_link": true
    },
    "kernelspec": {
      "name": "python3",
      "display_name": "Python 3"
    }
  },
  "cells": [
    {
      "cell_type": "markdown",
      "metadata": {
        "id": "view-in-github",
        "colab_type": "text"
      },
      "source": [
        "<a href=\"https://colab.research.google.com/github/davidmuna/KNN-Naive-Bayes-Classifiers/blob/main/Core_Week_9_KNN_Classifier_David_Muna.ipynb\" target=\"_parent\"><img src=\"https://colab.research.google.com/assets/colab-badge.svg\" alt=\"Open In Colab\"/></a>"
      ]
    },
    {
      "cell_type": "markdown",
      "metadata": {
        "id": "xMxtPsqcTsSH"
      },
      "source": [
        "# Supervised Learning - KNN Classifier"
      ]
    },
    {
      "cell_type": "markdown",
      "metadata": {
        "id": "kLG2VTrnTvYL"
      },
      "source": [
        "## 1. Defining the Question\n",
        "\n"
      ]
    },
    {
      "cell_type": "markdown",
      "metadata": {
        "id": "XecOwPNorl2W"
      },
      "source": [
        "### a) Specifying the Data Analytic Question"
      ]
    },
    {
      "cell_type": "markdown",
      "metadata": {
        "id": "9ozBnKfehSAw"
      },
      "source": [
        "No question was posed, therefore, as a Data Scientist, my question would be to classify the titanic passengers as either survived or not."
      ]
    },
    {
      "cell_type": "markdown",
      "metadata": {
        "id": "J4wfHZwQrs-t"
      },
      "source": [
        "### b) Defining the Metric for Success\n",
        "\n",
        "Successfully classifying passengers as either survived or not with an accuracy of correct predictions not less than 80% using the following model and metrics:\n",
        "\n",
        "\n",
        "\n",
        "*   K Neighbours Classifier \n",
        "*   K Neighbours Classifier Model Distance Metrics & Performance Tuning\n",
        "*   Selecting the best test_size\n",
        "*   Accuracy of correct predictions\n",
        "*   Reporting confusion matrix"
      ]
    },
    {
      "cell_type": "markdown",
      "metadata": {
        "id": "a9BPYqunry97"
      },
      "source": [
        "### c) Understanding the context \n",
        "\n",
        "The Titanic had differrent classes for its passengers. Based on the structure of the ship and the location of cabins for the different classes on the ship, some classes were predisposed to high chances of survival while others had a higher risk of death judging from the angle at which the titanic sunk."
      ]
    },
    {
      "cell_type": "markdown",
      "metadata": {
        "id": "7KMRBJ7zr9HD"
      },
      "source": [
        "### d) Recording the Experimental Design\n",
        "\n",
        "\n",
        "\n",
        "*   Data Preparation and Cleaning\n",
        "*   Feature Engineering\n",
        "*   Exploratory Data Analysis\n",
        "*   Modelling\n",
        "*   Improving Model Performance\n",
        "*   Evaluation\n",
        "\n",
        "\n"
      ]
    },
    {
      "cell_type": "markdown",
      "metadata": {
        "id": "zSGyg6kWsBUl"
      },
      "source": [
        "### e) Data Relevance\n",
        "\n",
        "Our data becomes relevant once we achieve the metrics for success."
      ]
    },
    {
      "cell_type": "markdown",
      "metadata": {
        "id": "iUNbvIvnT7ep"
      },
      "source": [
        "## 2. Reading the Data"
      ]
    },
    {
      "cell_type": "code",
      "metadata": {
        "id": "XJn2KjW-WMlG"
      },
      "source": [
        "# Loading the Data from the source i.e. csv\n",
        "# ---\n",
        "import numpy as np, pandas as pd\n",
        "import matplotlib.pyplot as plt\n",
        "import seaborn as sns\n",
        "#Filtering Warnings\n",
        "import warnings\n",
        "warnings.simplefilter(\"ignore\")\n",
        "\n",
        "train = pd.read_csv('https://archive.org/download/train5_202002/train%20%285%29.csv')\n",
        "test = pd.read_csv('https://archive.org/download/test1_202002/test%20%281%29.csv')"
      ],
      "execution_count": 42,
      "outputs": []
    },
    {
      "cell_type": "markdown",
      "metadata": {
        "id": "OI3P3YnHUEBk"
      },
      "source": [
        "\n",
        "\n",
        "## 3. Checking the Data"
      ]
    },
    {
      "cell_type": "code",
      "metadata": {
        "id": "YjSVNwgptHxY",
        "outputId": "25bf7161-d37d-4d97-a4bd-dcd4aea7a8a2",
        "colab": {
          "base_uri": "https://localhost:8080/",
          "height": 54
        }
      },
      "source": [
        "# Determining the no. of records in our dataset\n",
        "print('train',train.shape)\n",
        "print('test',test.shape)"
      ],
      "execution_count": 5,
      "outputs": [
        {
          "output_type": "stream",
          "text": [
            "train (891, 12)\n",
            "test (418, 11)\n"
          ],
          "name": "stdout"
        }
      ]
    },
    {
      "cell_type": "code",
      "metadata": {
        "id": "xHhTw5eKWr0n",
        "outputId": "9b080541-449c-45d9-dbf3-2841e0247f0a",
        "colab": {
          "base_uri": "https://localhost:8080/",
          "height": 173
        }
      },
      "source": [
        "# Previewing the top of our datasets\n",
        "train.head(3)"
      ],
      "execution_count": 6,
      "outputs": [
        {
          "output_type": "execute_result",
          "data": {
            "text/html": [
              "<div>\n",
              "<style scoped>\n",
              "    .dataframe tbody tr th:only-of-type {\n",
              "        vertical-align: middle;\n",
              "    }\n",
              "\n",
              "    .dataframe tbody tr th {\n",
              "        vertical-align: top;\n",
              "    }\n",
              "\n",
              "    .dataframe thead th {\n",
              "        text-align: right;\n",
              "    }\n",
              "</style>\n",
              "<table border=\"1\" class=\"dataframe\">\n",
              "  <thead>\n",
              "    <tr style=\"text-align: right;\">\n",
              "      <th></th>\n",
              "      <th>PassengerId</th>\n",
              "      <th>Survived</th>\n",
              "      <th>Pclass</th>\n",
              "      <th>Name</th>\n",
              "      <th>Sex</th>\n",
              "      <th>Age</th>\n",
              "      <th>SibSp</th>\n",
              "      <th>Parch</th>\n",
              "      <th>Ticket</th>\n",
              "      <th>Fare</th>\n",
              "      <th>Cabin</th>\n",
              "      <th>Embarked</th>\n",
              "    </tr>\n",
              "  </thead>\n",
              "  <tbody>\n",
              "    <tr>\n",
              "      <th>0</th>\n",
              "      <td>1</td>\n",
              "      <td>0</td>\n",
              "      <td>3</td>\n",
              "      <td>Braund, Mr. Owen Harris</td>\n",
              "      <td>male</td>\n",
              "      <td>22.0</td>\n",
              "      <td>1</td>\n",
              "      <td>0</td>\n",
              "      <td>A/5 21171</td>\n",
              "      <td>7.2500</td>\n",
              "      <td>NaN</td>\n",
              "      <td>S</td>\n",
              "    </tr>\n",
              "    <tr>\n",
              "      <th>1</th>\n",
              "      <td>2</td>\n",
              "      <td>1</td>\n",
              "      <td>1</td>\n",
              "      <td>Cumings, Mrs. John Bradley (Florence Briggs Th...</td>\n",
              "      <td>female</td>\n",
              "      <td>38.0</td>\n",
              "      <td>1</td>\n",
              "      <td>0</td>\n",
              "      <td>PC 17599</td>\n",
              "      <td>71.2833</td>\n",
              "      <td>C85</td>\n",
              "      <td>C</td>\n",
              "    </tr>\n",
              "    <tr>\n",
              "      <th>2</th>\n",
              "      <td>3</td>\n",
              "      <td>1</td>\n",
              "      <td>3</td>\n",
              "      <td>Heikkinen, Miss. Laina</td>\n",
              "      <td>female</td>\n",
              "      <td>26.0</td>\n",
              "      <td>0</td>\n",
              "      <td>0</td>\n",
              "      <td>STON/O2. 3101282</td>\n",
              "      <td>7.9250</td>\n",
              "      <td>NaN</td>\n",
              "      <td>S</td>\n",
              "    </tr>\n",
              "  </tbody>\n",
              "</table>\n",
              "</div>"
            ],
            "text/plain": [
              "   PassengerId  Survived  Pclass  ...     Fare Cabin  Embarked\n",
              "0            1         0       3  ...   7.2500   NaN         S\n",
              "1            2         1       1  ...  71.2833   C85         C\n",
              "2            3         1       3  ...   7.9250   NaN         S\n",
              "\n",
              "[3 rows x 12 columns]"
            ]
          },
          "metadata": {
            "tags": []
          },
          "execution_count": 6
        }
      ]
    },
    {
      "cell_type": "code",
      "metadata": {
        "id": "URCYMEnAP_Q-",
        "outputId": "005957c1-6d0b-4444-da36-314267fce450",
        "colab": {
          "base_uri": "https://localhost:8080/",
          "height": 138
        }
      },
      "source": [
        "test.head(3)"
      ],
      "execution_count": 7,
      "outputs": [
        {
          "output_type": "execute_result",
          "data": {
            "text/html": [
              "<div>\n",
              "<style scoped>\n",
              "    .dataframe tbody tr th:only-of-type {\n",
              "        vertical-align: middle;\n",
              "    }\n",
              "\n",
              "    .dataframe tbody tr th {\n",
              "        vertical-align: top;\n",
              "    }\n",
              "\n",
              "    .dataframe thead th {\n",
              "        text-align: right;\n",
              "    }\n",
              "</style>\n",
              "<table border=\"1\" class=\"dataframe\">\n",
              "  <thead>\n",
              "    <tr style=\"text-align: right;\">\n",
              "      <th></th>\n",
              "      <th>PassengerId</th>\n",
              "      <th>Pclass</th>\n",
              "      <th>Name</th>\n",
              "      <th>Sex</th>\n",
              "      <th>Age</th>\n",
              "      <th>SibSp</th>\n",
              "      <th>Parch</th>\n",
              "      <th>Ticket</th>\n",
              "      <th>Fare</th>\n",
              "      <th>Cabin</th>\n",
              "      <th>Embarked</th>\n",
              "    </tr>\n",
              "  </thead>\n",
              "  <tbody>\n",
              "    <tr>\n",
              "      <th>0</th>\n",
              "      <td>892</td>\n",
              "      <td>3</td>\n",
              "      <td>Kelly, Mr. James</td>\n",
              "      <td>male</td>\n",
              "      <td>34.5</td>\n",
              "      <td>0</td>\n",
              "      <td>0</td>\n",
              "      <td>330911</td>\n",
              "      <td>7.8292</td>\n",
              "      <td>NaN</td>\n",
              "      <td>Q</td>\n",
              "    </tr>\n",
              "    <tr>\n",
              "      <th>1</th>\n",
              "      <td>893</td>\n",
              "      <td>3</td>\n",
              "      <td>Wilkes, Mrs. James (Ellen Needs)</td>\n",
              "      <td>female</td>\n",
              "      <td>47.0</td>\n",
              "      <td>1</td>\n",
              "      <td>0</td>\n",
              "      <td>363272</td>\n",
              "      <td>7.0000</td>\n",
              "      <td>NaN</td>\n",
              "      <td>S</td>\n",
              "    </tr>\n",
              "    <tr>\n",
              "      <th>2</th>\n",
              "      <td>894</td>\n",
              "      <td>2</td>\n",
              "      <td>Myles, Mr. Thomas Francis</td>\n",
              "      <td>male</td>\n",
              "      <td>62.0</td>\n",
              "      <td>0</td>\n",
              "      <td>0</td>\n",
              "      <td>240276</td>\n",
              "      <td>9.6875</td>\n",
              "      <td>NaN</td>\n",
              "      <td>Q</td>\n",
              "    </tr>\n",
              "  </tbody>\n",
              "</table>\n",
              "</div>"
            ],
            "text/plain": [
              "   PassengerId  Pclass                              Name  ...    Fare  Cabin  Embarked\n",
              "0          892       3                  Kelly, Mr. James  ...  7.8292    NaN         Q\n",
              "1          893       3  Wilkes, Mrs. James (Ellen Needs)  ...  7.0000    NaN         S\n",
              "2          894       2         Myles, Mr. Thomas Francis  ...  9.6875    NaN         Q\n",
              "\n",
              "[3 rows x 11 columns]"
            ]
          },
          "metadata": {
            "tags": []
          },
          "execution_count": 7
        }
      ]
    },
    {
      "cell_type": "code",
      "metadata": {
        "id": "e9AzGcZFrIIr",
        "outputId": "03d1d505-f386-4400-ef29-c724f954c932",
        "colab": {
          "base_uri": "https://localhost:8080/",
          "height": 138
        }
      },
      "source": [
        "# Previewing the bottom of our datasets\n",
        "train.tail(3)"
      ],
      "execution_count": 8,
      "outputs": [
        {
          "output_type": "execute_result",
          "data": {
            "text/html": [
              "<div>\n",
              "<style scoped>\n",
              "    .dataframe tbody tr th:only-of-type {\n",
              "        vertical-align: middle;\n",
              "    }\n",
              "\n",
              "    .dataframe tbody tr th {\n",
              "        vertical-align: top;\n",
              "    }\n",
              "\n",
              "    .dataframe thead th {\n",
              "        text-align: right;\n",
              "    }\n",
              "</style>\n",
              "<table border=\"1\" class=\"dataframe\">\n",
              "  <thead>\n",
              "    <tr style=\"text-align: right;\">\n",
              "      <th></th>\n",
              "      <th>PassengerId</th>\n",
              "      <th>Survived</th>\n",
              "      <th>Pclass</th>\n",
              "      <th>Name</th>\n",
              "      <th>Sex</th>\n",
              "      <th>Age</th>\n",
              "      <th>SibSp</th>\n",
              "      <th>Parch</th>\n",
              "      <th>Ticket</th>\n",
              "      <th>Fare</th>\n",
              "      <th>Cabin</th>\n",
              "      <th>Embarked</th>\n",
              "    </tr>\n",
              "  </thead>\n",
              "  <tbody>\n",
              "    <tr>\n",
              "      <th>888</th>\n",
              "      <td>889</td>\n",
              "      <td>0</td>\n",
              "      <td>3</td>\n",
              "      <td>Johnston, Miss. Catherine Helen \"Carrie\"</td>\n",
              "      <td>female</td>\n",
              "      <td>NaN</td>\n",
              "      <td>1</td>\n",
              "      <td>2</td>\n",
              "      <td>W./C. 6607</td>\n",
              "      <td>23.45</td>\n",
              "      <td>NaN</td>\n",
              "      <td>S</td>\n",
              "    </tr>\n",
              "    <tr>\n",
              "      <th>889</th>\n",
              "      <td>890</td>\n",
              "      <td>1</td>\n",
              "      <td>1</td>\n",
              "      <td>Behr, Mr. Karl Howell</td>\n",
              "      <td>male</td>\n",
              "      <td>26.0</td>\n",
              "      <td>0</td>\n",
              "      <td>0</td>\n",
              "      <td>111369</td>\n",
              "      <td>30.00</td>\n",
              "      <td>C148</td>\n",
              "      <td>C</td>\n",
              "    </tr>\n",
              "    <tr>\n",
              "      <th>890</th>\n",
              "      <td>891</td>\n",
              "      <td>0</td>\n",
              "      <td>3</td>\n",
              "      <td>Dooley, Mr. Patrick</td>\n",
              "      <td>male</td>\n",
              "      <td>32.0</td>\n",
              "      <td>0</td>\n",
              "      <td>0</td>\n",
              "      <td>370376</td>\n",
              "      <td>7.75</td>\n",
              "      <td>NaN</td>\n",
              "      <td>Q</td>\n",
              "    </tr>\n",
              "  </tbody>\n",
              "</table>\n",
              "</div>"
            ],
            "text/plain": [
              "     PassengerId  Survived  Pclass  ...   Fare Cabin  Embarked\n",
              "888          889         0       3  ...  23.45   NaN         S\n",
              "889          890         1       1  ...  30.00  C148         C\n",
              "890          891         0       3  ...   7.75   NaN         Q\n",
              "\n",
              "[3 rows x 12 columns]"
            ]
          },
          "metadata": {
            "tags": []
          },
          "execution_count": 8
        }
      ]
    },
    {
      "cell_type": "code",
      "metadata": {
        "id": "uigDrhtVQEiw",
        "outputId": "07bad269-f613-4660-89b3-62add5fd7482",
        "colab": {
          "base_uri": "https://localhost:8080/",
          "height": 138
        }
      },
      "source": [
        "test.tail(3)"
      ],
      "execution_count": 9,
      "outputs": [
        {
          "output_type": "execute_result",
          "data": {
            "text/html": [
              "<div>\n",
              "<style scoped>\n",
              "    .dataframe tbody tr th:only-of-type {\n",
              "        vertical-align: middle;\n",
              "    }\n",
              "\n",
              "    .dataframe tbody tr th {\n",
              "        vertical-align: top;\n",
              "    }\n",
              "\n",
              "    .dataframe thead th {\n",
              "        text-align: right;\n",
              "    }\n",
              "</style>\n",
              "<table border=\"1\" class=\"dataframe\">\n",
              "  <thead>\n",
              "    <tr style=\"text-align: right;\">\n",
              "      <th></th>\n",
              "      <th>PassengerId</th>\n",
              "      <th>Pclass</th>\n",
              "      <th>Name</th>\n",
              "      <th>Sex</th>\n",
              "      <th>Age</th>\n",
              "      <th>SibSp</th>\n",
              "      <th>Parch</th>\n",
              "      <th>Ticket</th>\n",
              "      <th>Fare</th>\n",
              "      <th>Cabin</th>\n",
              "      <th>Embarked</th>\n",
              "    </tr>\n",
              "  </thead>\n",
              "  <tbody>\n",
              "    <tr>\n",
              "      <th>415</th>\n",
              "      <td>1307</td>\n",
              "      <td>3</td>\n",
              "      <td>Saether, Mr. Simon Sivertsen</td>\n",
              "      <td>male</td>\n",
              "      <td>38.5</td>\n",
              "      <td>0</td>\n",
              "      <td>0</td>\n",
              "      <td>SOTON/O.Q. 3101262</td>\n",
              "      <td>7.2500</td>\n",
              "      <td>NaN</td>\n",
              "      <td>S</td>\n",
              "    </tr>\n",
              "    <tr>\n",
              "      <th>416</th>\n",
              "      <td>1308</td>\n",
              "      <td>3</td>\n",
              "      <td>Ware, Mr. Frederick</td>\n",
              "      <td>male</td>\n",
              "      <td>NaN</td>\n",
              "      <td>0</td>\n",
              "      <td>0</td>\n",
              "      <td>359309</td>\n",
              "      <td>8.0500</td>\n",
              "      <td>NaN</td>\n",
              "      <td>S</td>\n",
              "    </tr>\n",
              "    <tr>\n",
              "      <th>417</th>\n",
              "      <td>1309</td>\n",
              "      <td>3</td>\n",
              "      <td>Peter, Master. Michael J</td>\n",
              "      <td>male</td>\n",
              "      <td>NaN</td>\n",
              "      <td>1</td>\n",
              "      <td>1</td>\n",
              "      <td>2668</td>\n",
              "      <td>22.3583</td>\n",
              "      <td>NaN</td>\n",
              "      <td>C</td>\n",
              "    </tr>\n",
              "  </tbody>\n",
              "</table>\n",
              "</div>"
            ],
            "text/plain": [
              "     PassengerId  Pclass                          Name  ...     Fare  Cabin  Embarked\n",
              "415         1307       3  Saether, Mr. Simon Sivertsen  ...   7.2500    NaN         S\n",
              "416         1308       3           Ware, Mr. Frederick  ...   8.0500    NaN         S\n",
              "417         1309       3      Peter, Master. Michael J  ...  22.3583    NaN         C\n",
              "\n",
              "[3 rows x 11 columns]"
            ]
          },
          "metadata": {
            "tags": []
          },
          "execution_count": 9
        }
      ]
    },
    {
      "cell_type": "code",
      "metadata": {
        "id": "n8-dW4sQWzbc",
        "outputId": "b4be34eb-8066-4d9b-a33d-a1ebf4c87e3f",
        "colab": {
          "base_uri": "https://localhost:8080/",
          "height": 490
        }
      },
      "source": [
        "# Checking whether each column has an appropriate datatype\n",
        "print(train.dtypes)\n",
        "print('########################')\n",
        "print(test.dtypes)\n"
      ],
      "execution_count": 10,
      "outputs": [
        {
          "output_type": "stream",
          "text": [
            "PassengerId      int64\n",
            "Survived         int64\n",
            "Pclass           int64\n",
            "Name            object\n",
            "Sex             object\n",
            "Age            float64\n",
            "SibSp            int64\n",
            "Parch            int64\n",
            "Ticket          object\n",
            "Fare           float64\n",
            "Cabin           object\n",
            "Embarked        object\n",
            "dtype: object\n",
            "########################\n",
            "PassengerId      int64\n",
            "Pclass           int64\n",
            "Name            object\n",
            "Sex             object\n",
            "Age            float64\n",
            "SibSp            int64\n",
            "Parch            int64\n",
            "Ticket          object\n",
            "Fare           float64\n",
            "Cabin           object\n",
            "Embarked        object\n",
            "dtype: object\n"
          ],
          "name": "stdout"
        }
      ]
    },
    {
      "cell_type": "markdown",
      "metadata": {
        "id": "ckfufNrcUHeH"
      },
      "source": [
        "## 4. External Data Source Validation"
      ]
    },
    {
      "cell_type": "markdown",
      "metadata": {
        "id": "6XC_g-zKxe-r"
      },
      "source": [
        "### a.Validation"
      ]
    },
    {
      "cell_type": "markdown",
      "metadata": {
        "id": "FlBMxEDBUc9B"
      },
      "source": [
        "## 5. Tidying the Dataset"
      ]
    },
    {
      "cell_type": "code",
      "metadata": {
        "id": "5o_bQcT5W3Wz",
        "outputId": "d4796b8e-6a33-4e2a-ceb6-892fcc1a66ed",
        "colab": {
          "base_uri": "https://localhost:8080/",
          "height": 265
        }
      },
      "source": [
        "# Checking for Outliers\n",
        "#Max and MIn fares\n",
        "print('Max Fare',train['Fare'].max())\n",
        "print('Min Fare',train['Fare'].min())\n",
        "train.boxplot(figsize=(7,3))"
      ],
      "execution_count": 11,
      "outputs": [
        {
          "output_type": "stream",
          "text": [
            "Max Fare 512.3292\n",
            "Min Fare 0.0\n"
          ],
          "name": "stdout"
        },
        {
          "output_type": "execute_result",
          "data": {
            "text/plain": [
              "<matplotlib.axes._subplots.AxesSubplot at 0x7f8f3fcd94a8>"
            ]
          },
          "metadata": {
            "tags": []
          },
          "execution_count": 11
        },
        {
          "output_type": "display_data",
          "data": {
            "image/png": "[encoded data removed]",
            "text/plain": [
              "<Figure size 504x216 with 1 Axes>"
            ]
          },
          "metadata": {
            "tags": [],
            "needs_background": "light"
          }
        }
      ]
    },
    {
      "cell_type": "code",
      "metadata": {
        "id": "XpY_2CUrS5Us",
        "outputId": "810ad26b-28e2-4559-e927-03ee40a5faf4",
        "colab": {
          "base_uri": "https://localhost:8080/",
          "height": 265
        }
      },
      "source": [
        "print('Max Fare',test['Fare'].max())\n",
        "print('Min Fare',test['Fare'].min())\n",
        "test.boxplot(figsize=(7,3))"
      ],
      "execution_count": 12,
      "outputs": [
        {
          "output_type": "stream",
          "text": [
            "Max Fare 512.3292\n",
            "Min Fare 0.0\n"
          ],
          "name": "stdout"
        },
        {
          "output_type": "execute_result",
          "data": {
            "text/plain": [
              "<matplotlib.axes._subplots.AxesSubplot at 0x7f8f3fbc1828>"
            ]
          },
          "metadata": {
            "tags": []
          },
          "execution_count": 12
        },
        {
          "output_type": "display_data",
          "data": {
            "image/png": "[encoded data removed]",
            "text/plain": [
              "<Figure size 504x216 with 1 Axes>"
            ]
          },
          "metadata": {
            "tags": [],
            "needs_background": "light"
          }
        }
      ]
    },
    {
      "cell_type": "markdown",
      "metadata": {
        "id": "yk-t-dbZYwTc"
      },
      "source": [
        "Judging from the Min and Max fare, there seems to be no outliers or they are an imnportant part of the dataset.We retain them."
      ]
    },
    {
      "cell_type": "code",
      "metadata": {
        "id": "BmS_LdY72Nry",
        "outputId": "7c875071-4fd7-4ad9-e3cf-4c7b7b8cf5a9",
        "colab": {
          "base_uri": "https://localhost:8080/",
          "height": 288
        }
      },
      "source": [
        "#Checking summary statistics\n",
        "train.describe()"
      ],
      "execution_count": 13,
      "outputs": [
        {
          "output_type": "execute_result",
          "data": {
            "text/html": [
              "<div>\n",
              "<style scoped>\n",
              "    .dataframe tbody tr th:only-of-type {\n",
              "        vertical-align: middle;\n",
              "    }\n",
              "\n",
              "    .dataframe tbody tr th {\n",
              "        vertical-align: top;\n",
              "    }\n",
              "\n",
              "    .dataframe thead th {\n",
              "        text-align: right;\n",
              "    }\n",
              "</style>\n",
              "<table border=\"1\" class=\"dataframe\">\n",
              "  <thead>\n",
              "    <tr style=\"text-align: right;\">\n",
              "      <th></th>\n",
              "      <th>PassengerId</th>\n",
              "      <th>Survived</th>\n",
              "      <th>Pclass</th>\n",
              "      <th>Age</th>\n",
              "      <th>SibSp</th>\n",
              "      <th>Parch</th>\n",
              "      <th>Fare</th>\n",
              "    </tr>\n",
              "  </thead>\n",
              "  <tbody>\n",
              "    <tr>\n",
              "      <th>count</th>\n",
              "      <td>891.000000</td>\n",
              "      <td>891.000000</td>\n",
              "      <td>891.000000</td>\n",
              "      <td>714.000000</td>\n",
              "      <td>891.000000</td>\n",
              "      <td>891.000000</td>\n",
              "      <td>891.000000</td>\n",
              "    </tr>\n",
              "    <tr>\n",
              "      <th>mean</th>\n",
              "      <td>446.000000</td>\n",
              "      <td>0.383838</td>\n",
              "      <td>2.308642</td>\n",
              "      <td>29.699118</td>\n",
              "      <td>0.523008</td>\n",
              "      <td>0.381594</td>\n",
              "      <td>32.204208</td>\n",
              "    </tr>\n",
              "    <tr>\n",
              "      <th>std</th>\n",
              "      <td>257.353842</td>\n",
              "      <td>0.486592</td>\n",
              "      <td>0.836071</td>\n",
              "      <td>14.526497</td>\n",
              "      <td>1.102743</td>\n",
              "      <td>0.806057</td>\n",
              "      <td>49.693429</td>\n",
              "    </tr>\n",
              "    <tr>\n",
              "      <th>min</th>\n",
              "      <td>1.000000</td>\n",
              "      <td>0.000000</td>\n",
              "      <td>1.000000</td>\n",
              "      <td>0.420000</td>\n",
              "      <td>0.000000</td>\n",
              "      <td>0.000000</td>\n",
              "      <td>0.000000</td>\n",
              "    </tr>\n",
              "    <tr>\n",
              "      <th>25%</th>\n",
              "      <td>223.500000</td>\n",
              "      <td>0.000000</td>\n",
              "      <td>2.000000</td>\n",
              "      <td>20.125000</td>\n",
              "      <td>0.000000</td>\n",
              "      <td>0.000000</td>\n",
              "      <td>7.910400</td>\n",
              "    </tr>\n",
              "    <tr>\n",
              "      <th>50%</th>\n",
              "      <td>446.000000</td>\n",
              "      <td>0.000000</td>\n",
              "      <td>3.000000</td>\n",
              "      <td>28.000000</td>\n",
              "      <td>0.000000</td>\n",
              "      <td>0.000000</td>\n",
              "      <td>14.454200</td>\n",
              "    </tr>\n",
              "    <tr>\n",
              "      <th>75%</th>\n",
              "      <td>668.500000</td>\n",
              "      <td>1.000000</td>\n",
              "      <td>3.000000</td>\n",
              "      <td>38.000000</td>\n",
              "      <td>1.000000</td>\n",
              "      <td>0.000000</td>\n",
              "      <td>31.000000</td>\n",
              "    </tr>\n",
              "    <tr>\n",
              "      <th>max</th>\n",
              "      <td>891.000000</td>\n",
              "      <td>1.000000</td>\n",
              "      <td>3.000000</td>\n",
              "      <td>80.000000</td>\n",
              "      <td>8.000000</td>\n",
              "      <td>6.000000</td>\n",
              "      <td>512.329200</td>\n",
              "    </tr>\n",
              "  </tbody>\n",
              "</table>\n",
              "</div>"
            ],
            "text/plain": [
              "       PassengerId    Survived      Pclass  ...       SibSp       Parch        Fare\n",
              "count   891.000000  891.000000  891.000000  ...  891.000000  891.000000  891.000000\n",
              "mean    446.000000    0.383838    2.308642  ...    0.523008    0.381594   32.204208\n",
              "std     257.353842    0.486592    0.836071  ...    1.102743    0.806057   49.693429\n",
              "min       1.000000    0.000000    1.000000  ...    0.000000    0.000000    0.000000\n",
              "25%     223.500000    0.000000    2.000000  ...    0.000000    0.000000    7.910400\n",
              "50%     446.000000    0.000000    3.000000  ...    0.000000    0.000000   14.454200\n",
              "75%     668.500000    1.000000    3.000000  ...    1.000000    0.000000   31.000000\n",
              "max     891.000000    1.000000    3.000000  ...    8.000000    6.000000  512.329200\n",
              "\n",
              "[8 rows x 7 columns]"
            ]
          },
          "metadata": {
            "tags": []
          },
          "execution_count": 13
        }
      ]
    },
    {
      "cell_type": "code",
      "metadata": {
        "id": "Fu86VmqyUEL5",
        "outputId": "a901acd6-6682-4610-ee40-fad3a73bbf89",
        "colab": {
          "base_uri": "https://localhost:8080/",
          "height": 288
        }
      },
      "source": [
        "test.describe()"
      ],
      "execution_count": 14,
      "outputs": [
        {
          "output_type": "execute_result",
          "data": {
            "text/html": [
              "<div>\n",
              "<style scoped>\n",
              "    .dataframe tbody tr th:only-of-type {\n",
              "        vertical-align: middle;\n",
              "    }\n",
              "\n",
              "    .dataframe tbody tr th {\n",
              "        vertical-align: top;\n",
              "    }\n",
              "\n",
              "    .dataframe thead th {\n",
              "        text-align: right;\n",
              "    }\n",
              "</style>\n",
              "<table border=\"1\" class=\"dataframe\">\n",
              "  <thead>\n",
              "    <tr style=\"text-align: right;\">\n",
              "      <th></th>\n",
              "      <th>PassengerId</th>\n",
              "      <th>Pclass</th>\n",
              "      <th>Age</th>\n",
              "      <th>SibSp</th>\n",
              "      <th>Parch</th>\n",
              "      <th>Fare</th>\n",
              "    </tr>\n",
              "  </thead>\n",
              "  <tbody>\n",
              "    <tr>\n",
              "      <th>count</th>\n",
              "      <td>418.000000</td>\n",
              "      <td>418.000000</td>\n",
              "      <td>332.000000</td>\n",
              "      <td>418.000000</td>\n",
              "      <td>418.000000</td>\n",
              "      <td>417.000000</td>\n",
              "    </tr>\n",
              "    <tr>\n",
              "      <th>mean</th>\n",
              "      <td>1100.500000</td>\n",
              "      <td>2.265550</td>\n",
              "      <td>30.272590</td>\n",
              "      <td>0.447368</td>\n",
              "      <td>0.392344</td>\n",
              "      <td>35.627188</td>\n",
              "    </tr>\n",
              "    <tr>\n",
              "      <th>std</th>\n",
              "      <td>120.810458</td>\n",
              "      <td>0.841838</td>\n",
              "      <td>14.181209</td>\n",
              "      <td>0.896760</td>\n",
              "      <td>0.981429</td>\n",
              "      <td>55.907576</td>\n",
              "    </tr>\n",
              "    <tr>\n",
              "      <th>min</th>\n",
              "      <td>892.000000</td>\n",
              "      <td>1.000000</td>\n",
              "      <td>0.170000</td>\n",
              "      <td>0.000000</td>\n",
              "      <td>0.000000</td>\n",
              "      <td>0.000000</td>\n",
              "    </tr>\n",
              "    <tr>\n",
              "      <th>25%</th>\n",
              "      <td>996.250000</td>\n",
              "      <td>1.000000</td>\n",
              "      <td>21.000000</td>\n",
              "      <td>0.000000</td>\n",
              "      <td>0.000000</td>\n",
              "      <td>7.895800</td>\n",
              "    </tr>\n",
              "    <tr>\n",
              "      <th>50%</th>\n",
              "      <td>1100.500000</td>\n",
              "      <td>3.000000</td>\n",
              "      <td>27.000000</td>\n",
              "      <td>0.000000</td>\n",
              "      <td>0.000000</td>\n",
              "      <td>14.454200</td>\n",
              "    </tr>\n",
              "    <tr>\n",
              "      <th>75%</th>\n",
              "      <td>1204.750000</td>\n",
              "      <td>3.000000</td>\n",
              "      <td>39.000000</td>\n",
              "      <td>1.000000</td>\n",
              "      <td>0.000000</td>\n",
              "      <td>31.500000</td>\n",
              "    </tr>\n",
              "    <tr>\n",
              "      <th>max</th>\n",
              "      <td>1309.000000</td>\n",
              "      <td>3.000000</td>\n",
              "      <td>76.000000</td>\n",
              "      <td>8.000000</td>\n",
              "      <td>9.000000</td>\n",
              "      <td>512.329200</td>\n",
              "    </tr>\n",
              "  </tbody>\n",
              "</table>\n",
              "</div>"
            ],
            "text/plain": [
              "       PassengerId      Pclass         Age       SibSp       Parch        Fare\n",
              "count   418.000000  418.000000  332.000000  418.000000  418.000000  417.000000\n",
              "mean   1100.500000    2.265550   30.272590    0.447368    0.392344   35.627188\n",
              "std     120.810458    0.841838   14.181209    0.896760    0.981429   55.907576\n",
              "min     892.000000    1.000000    0.170000    0.000000    0.000000    0.000000\n",
              "25%     996.250000    1.000000   21.000000    0.000000    0.000000    7.895800\n",
              "50%    1100.500000    3.000000   27.000000    0.000000    0.000000   14.454200\n",
              "75%    1204.750000    3.000000   39.000000    1.000000    0.000000   31.500000\n",
              "max    1309.000000    3.000000   76.000000    8.000000    9.000000  512.329200"
            ]
          },
          "metadata": {
            "tags": []
          },
          "execution_count": 14
        }
      ]
    },
    {
      "cell_type": "code",
      "metadata": {
        "id": "PWlukLKUvFQN",
        "outputId": "749eb38b-7d13-4b03-ba79-53c552aa3f6d",
        "colab": {
          "base_uri": "https://localhost:8080/",
          "height": 490
        }
      },
      "source": [
        "# Checking for Anomalies\n",
        "print(train.nunique())\n",
        "print('#################')\n",
        "print(test.nunique())\n",
        "\n",
        "#Everything seems to be okay, no anomalies"
      ],
      "execution_count": 15,
      "outputs": [
        {
          "output_type": "stream",
          "text": [
            "PassengerId    891\n",
            "Survived         2\n",
            "Pclass           3\n",
            "Name           891\n",
            "Sex              2\n",
            "Age             88\n",
            "SibSp            7\n",
            "Parch            7\n",
            "Ticket         681\n",
            "Fare           248\n",
            "Cabin          147\n",
            "Embarked         3\n",
            "dtype: int64\n",
            "#################\n",
            "PassengerId    418\n",
            "Pclass           3\n",
            "Name           418\n",
            "Sex              2\n",
            "Age             79\n",
            "SibSp            7\n",
            "Parch            8\n",
            "Ticket         363\n",
            "Fare           169\n",
            "Cabin           76\n",
            "Embarked         3\n",
            "dtype: int64\n"
          ],
          "name": "stdout"
        }
      ]
    },
    {
      "cell_type": "code",
      "metadata": {
        "id": "PvCYb6dgW4yh",
        "outputId": "820a0c4e-edcd-479c-d1ec-99b67debece2",
        "colab": {
          "base_uri": "https://localhost:8080/",
          "height": 490
        }
      },
      "source": [
        "# Identifying the Missing Data\n",
        "print(train.isnull().sum())\n",
        "print('###############')\n",
        "print(test.isnull().sum())"
      ],
      "execution_count": 16,
      "outputs": [
        {
          "output_type": "stream",
          "text": [
            "PassengerId      0\n",
            "Survived         0\n",
            "Pclass           0\n",
            "Name             0\n",
            "Sex              0\n",
            "Age            177\n",
            "SibSp            0\n",
            "Parch            0\n",
            "Ticket           0\n",
            "Fare             0\n",
            "Cabin          687\n",
            "Embarked         2\n",
            "dtype: int64\n",
            "###############\n",
            "PassengerId      0\n",
            "Pclass           0\n",
            "Name             0\n",
            "Sex              0\n",
            "Age             86\n",
            "SibSp            0\n",
            "Parch            0\n",
            "Ticket           0\n",
            "Fare             1\n",
            "Cabin          327\n",
            "Embarked         0\n",
            "dtype: int64\n"
          ],
          "name": "stdout"
        }
      ]
    },
    {
      "cell_type": "code",
      "metadata": {
        "id": "yC4Xv3qSvL9m",
        "outputId": "76cdcc63-7847-4d8e-d0d3-dbe60ff0d195",
        "colab": {
          "base_uri": "https://localhost:8080/",
          "height": 54
        }
      },
      "source": [
        "#Checking Duplicates\n",
        "print('Duplicates', train.duplicated().sum())\n",
        "train = train.drop_duplicates()\n",
        "print('Duplicates', train.duplicated().sum())"
      ],
      "execution_count": 17,
      "outputs": [
        {
          "output_type": "stream",
          "text": [
            "Duplicates 0\n",
            "Duplicates 0\n"
          ],
          "name": "stdout"
        }
      ]
    },
    {
      "cell_type": "markdown",
      "metadata": {
        "id": "zXaeq8YTd97Q"
      },
      "source": [
        "##### Feature Engineering"
      ]
    },
    {
      "cell_type": "code",
      "metadata": {
        "id": "xIgEAvxbd5qA"
      },
      "source": [
        "#Extracting Title from Passengers' Names by creating a list containing train and test datasets\n",
        "merged_list = [train,test]\n",
        "\n",
        "#Creating a for loop that extracts Title from Name and overrides Name column.\n",
        "\n",
        "for dataset in merged_list:\n",
        "  dataset['Name'] = dataset['Name'].str.extract('([A-Za-z]+)\\.',expand=False)"
      ],
      "execution_count": 18,
      "outputs": []
    },
    {
      "cell_type": "code",
      "metadata": {
        "id": "Bu1QUFLqqfUN",
        "outputId": "319fcf6d-5a8f-47d9-f0b9-7b0284548769",
        "colab": {
          "base_uri": "https://localhost:8080/",
          "height": 545
        }
      },
      "source": [
        "#Previewing Titles in Names\n",
        "print(test.Name.value_counts())\n",
        "print('#####################')\n",
        "print(train.Name.value_counts())"
      ],
      "execution_count": 19,
      "outputs": [
        {
          "output_type": "stream",
          "text": [
            "Mr        240\n",
            "Miss       78\n",
            "Mrs        72\n",
            "Master     21\n",
            "Rev         2\n",
            "Col         2\n",
            "Dona        1\n",
            "Dr          1\n",
            "Ms          1\n",
            "Name: Name, dtype: int64\n",
            "#####################\n",
            "Mr          517\n",
            "Miss        182\n",
            "Mrs         125\n",
            "Master       40\n",
            "Dr            7\n",
            "Rev           6\n",
            "Major         2\n",
            "Mlle          2\n",
            "Col           2\n",
            "Don           1\n",
            "Countess      1\n",
            "Capt          1\n",
            "Mme           1\n",
            "Sir           1\n",
            "Ms            1\n",
            "Jonkheer      1\n",
            "Lady          1\n",
            "Name: Name, dtype: int64\n"
          ],
          "name": "stdout"
        }
      ]
    },
    {
      "cell_type": "code",
      "metadata": {
        "id": "TZP1GzN0wCRS"
      },
      "source": [
        "#Extracting the First Letter from the Cabin column using a for loop on merged_list\n",
        "\n",
        "for dataset in merged_list:\n",
        "  dataset['Cabin'] = dataset['Cabin'].str[:1]"
      ],
      "execution_count": 20,
      "outputs": []
    },
    {
      "cell_type": "code",
      "metadata": {
        "id": "V_AMzS9VyWL1"
      },
      "source": [
        "## converting categorical columns to numerical within the range of 0-1 to retain Nan values and \n",
        "#deal with them later\n",
        "\n",
        "for dataset in merged_list:\n",
        "  dataset['Cabin'] = dataset['Cabin'].map({'A':0,'B':0.1,'C':0.2,'D':0.3, 'E':0.4,'F':0.5,'G':0.6, 'T':0.7})"
      ],
      "execution_count": 21,
      "outputs": []
    },
    {
      "cell_type": "code",
      "metadata": {
        "id": "ylzTl802YsEU",
        "outputId": "d13f1828-4053-428a-fa49-c4e5677f0646",
        "colab": {
          "base_uri": "https://localhost:8080/",
          "height": 781
        }
      },
      "source": [
        "#Dealing with missing data\n",
        "\n",
        "#Filling missing values of Age,Cabin and Fare(test dataset) with median values for respective passenger class\n",
        "#age\n",
        "train['Age'].fillna(train.groupby('Pclass')['Age'].transform('median'), inplace=True)\n",
        "test['Age'].fillna(test.groupby('Pclass')['Age'].transform('median'), inplace=True)\n",
        "\n",
        "#Cabin\n",
        "train['Cabin'].fillna(train.groupby('Pclass')['Cabin'].transform('median'), inplace=True)\n",
        "test['Cabin'].fillna(test.groupby('Pclass')['Cabin'].transform('median'), inplace=True)\n",
        "\n",
        "#Fare\n",
        "test['Fare'].fillna(test.groupby('Pclass')['Fare'].transform('median'), inplace=True)\n",
        "\n",
        "#Checking missing records\n",
        "print(test.shape)\n",
        "print(test.info())\n",
        "print('############################')\n",
        "print(train.shape)\n",
        "print(train.info())"
      ],
      "execution_count": 22,
      "outputs": [
        {
          "output_type": "stream",
          "text": [
            "(418, 11)\n",
            "<class 'pandas.core.frame.DataFrame'>\n",
            "RangeIndex: 418 entries, 0 to 417\n",
            "Data columns (total 11 columns):\n",
            " #   Column       Non-Null Count  Dtype  \n",
            "---  ------       --------------  -----  \n",
            " 0   PassengerId  418 non-null    int64  \n",
            " 1   Pclass       418 non-null    int64  \n",
            " 2   Name         418 non-null    object \n",
            " 3   Sex          418 non-null    object \n",
            " 4   Age          418 non-null    float64\n",
            " 5   SibSp        418 non-null    int64  \n",
            " 6   Parch        418 non-null    int64  \n",
            " 7   Ticket       418 non-null    object \n",
            " 8   Fare         418 non-null    float64\n",
            " 9   Cabin        418 non-null    float64\n",
            " 10  Embarked     418 non-null    object \n",
            "dtypes: float64(3), int64(4), object(4)\n",
            "memory usage: 36.0+ KB\n",
            "None\n",
            "############################\n",
            "(891, 12)\n",
            "<class 'pandas.core.frame.DataFrame'>\n",
            "Int64Index: 891 entries, 0 to 890\n",
            "Data columns (total 12 columns):\n",
            " #   Column       Non-Null Count  Dtype  \n",
            "---  ------       --------------  -----  \n",
            " 0   PassengerId  891 non-null    int64  \n",
            " 1   Survived     891 non-null    int64  \n",
            " 2   Pclass       891 non-null    int64  \n",
            " 3   Name         891 non-null    object \n",
            " 4   Sex          891 non-null    object \n",
            " 5   Age          891 non-null    float64\n",
            " 6   SibSp        891 non-null    int64  \n",
            " 7   Parch        891 non-null    int64  \n",
            " 8   Ticket       891 non-null    object \n",
            " 9   Fare         891 non-null    float64\n",
            " 10  Cabin        891 non-null    float64\n",
            " 11  Embarked     889 non-null    object \n",
            "dtypes: float64(3), int64(5), object(4)\n",
            "memory usage: 90.5+ KB\n",
            "None\n"
          ],
          "name": "stdout"
        }
      ]
    },
    {
      "cell_type": "code",
      "metadata": {
        "id": "xxhvY5okimAz"
      },
      "source": [
        "#Dropping the two records in Embarked that have missing values in train dataset\n",
        "\n",
        "train = train.dropna()"
      ],
      "execution_count": 23,
      "outputs": []
    },
    {
      "cell_type": "code",
      "metadata": {
        "id": "6sUofuZm4BCz",
        "outputId": "6f058dd2-3fa5-4cd8-ec60-521fa39fe514",
        "colab": {
          "base_uri": "https://localhost:8080/",
          "height": 126
        }
      },
      "source": [
        "#Converting Categorical columns to numerical\n",
        "\n",
        "cat_cols = ['Name', 'Sex','Embarked']\n",
        "\n",
        "# Using a for loop to change columns to numerical\n",
        "\n",
        "#train dataset\n",
        "for column in train.columns:\n",
        "    if column in cat_cols:\n",
        "      train[column] = train[column].astype('category').cat.codes\n",
        "\n",
        "#test dataset\n",
        "for column in test.columns:\n",
        "    if column in cat_cols:\n",
        "      test[column] = test[column].astype('category').cat.codes"
      ],
      "execution_count": 24,
      "outputs": [
        {
          "output_type": "stream",
          "text": [
            "/usr/local/lib/python3.6/dist-packages/ipykernel_launcher.py:10: SettingWithCopyWarning: \n",
            "A value is trying to be set on a copy of a slice from a DataFrame.\n",
            "Try using .loc[row_indexer,col_indexer] = value instead\n",
            "\n",
            "See the caveats in the documentation: https://pandas.pydata.org/pandas-docs/stable/user_guide/indexing.html#returning-a-view-versus-a-copy\n",
            "  # Remove the CWD from sys.path while we load stuff.\n"
          ],
          "name": "stderr"
        }
      ]
    },
    {
      "cell_type": "code",
      "metadata": {
        "id": "G6UBzkDR5MSd"
      },
      "source": [
        "#Dropping Columns we wont need\n",
        "train = train.drop(columns=['PassengerId','Ticket'])\n",
        "test = test.drop(columns=['PassengerId','Ticket'])"
      ],
      "execution_count": 25,
      "outputs": []
    },
    {
      "cell_type": "markdown",
      "metadata": {
        "id": "rF2ABPsHUtbZ"
      },
      "source": [
        "## 6. Exploratory Analysis"
      ]
    },
    {
      "cell_type": "markdown",
      "metadata": {
        "id": "SBIv6Ii3ZKtV"
      },
      "source": [
        "##### Bivariate Summaries"
      ]
    },
    {
      "cell_type": "code",
      "metadata": {
        "id": "b2d7D2nEcu6h",
        "outputId": "0027eb77-e8f2-44cd-acde-115dfd2c69a9",
        "colab": {
          "base_uri": "https://localhost:8080/",
          "height": 279
        }
      },
      "source": [
        "#Countplot for those that survived\n",
        "\n",
        "ax = sns.countplot(x=\"Survived\", data=train)\n",
        "\n",
        "#We can see that a lot of people died. (0)"
      ],
      "execution_count": 26,
      "outputs": [
        {
          "output_type": "display_data",
          "data": {
            "image/png": "[encoded data removed]",
            "text/plain": [
              "<Figure size 432x288 with 1 Axes>"
            ]
          },
          "metadata": {
            "tags": [],
            "needs_background": "light"
          }
        }
      ]
    },
    {
      "cell_type": "code",
      "metadata": {
        "id": "30Rp2xHFZGk3"
      },
      "source": [
        "#Creating a bar chart function to plot survived/dead passengers based on the different columns\n",
        "\n",
        "def bar_chart(column):\n",
        "  #New dataframes for survived and dead passengers\n",
        "  survived = train[train['Survived']==1][column].value_counts()\n",
        "  dead = train[train['Survived']==0][column].value_counts()\n",
        "\n",
        "  #merging suvived and dead dataframes\n",
        "  outcome = pd.DataFrame([survived, dead])\n",
        "\n",
        "  #Indexing the dataframe\n",
        "  outcome.index = ['Survived', 'Dead']\n",
        "\n",
        "  #Plotting Bar Chart\n",
        "  outcome.plot(kind='bar', stacked = True)"
      ],
      "execution_count": 27,
      "outputs": []
    },
    {
      "cell_type": "code",
      "metadata": {
        "id": "lvsVNiifbnKk",
        "outputId": "a517f4bb-4f78-426e-b656-e121c55b5a1c",
        "colab": {
          "base_uri": "https://localhost:8080/",
          "height": 333
        }
      },
      "source": [
        "#Plotting survival against class by calling the bar_chart function and passing the column of interest in the argument\n",
        "bar_chart('Pclass')\n",
        "plt.title('Passenger Class Vs Survival')"
      ],
      "execution_count": 28,
      "outputs": [
        {
          "output_type": "execute_result",
          "data": {
            "text/plain": [
              "Text(0.5, 1.0, 'Passenger Class Vs Survival')"
            ]
          },
          "metadata": {
            "tags": []
          },
          "execution_count": 28
        },
        {
          "output_type": "display_data",
          "data": {
            "image/png": "[encoded data removed]",
            "text/plain": [
              "<Figure size 432x288 with 1 Axes>"
            ]
          },
          "metadata": {
            "tags": [],
            "needs_background": "light"
          }
        }
      ]
    },
    {
      "cell_type": "markdown",
      "metadata": {
        "id": "s0-anta1eYcY"
      },
      "source": [
        "The figure shows more people from 3rd class did not survive compared to other classes."
      ]
    },
    {
      "cell_type": "code",
      "metadata": {
        "id": "6PxVxveigK6B",
        "outputId": "fb4620eb-e837-48ed-d1aa-4eaedaa74dcf",
        "colab": {
          "base_uri": "https://localhost:8080/",
          "height": 333
        }
      },
      "source": [
        "#Sex against Survival\n",
        "bar_chart('Sex')\n",
        "plt.title('Sex Vs Survival')"
      ],
      "execution_count": 29,
      "outputs": [
        {
          "output_type": "execute_result",
          "data": {
            "text/plain": [
              "Text(0.5, 1.0, 'Sex Vs Survival')"
            ]
          },
          "metadata": {
            "tags": []
          },
          "execution_count": 29
        },
        {
          "output_type": "display_data",
          "data": {
            "image/png": "[encoded data removed]",
            "text/plain": [
              "<Figure size 432x288 with 1 Axes>"
            ]
          },
          "metadata": {
            "tags": [],
            "needs_background": "light"
          }
        }
      ]
    },
    {
      "cell_type": "markdown",
      "metadata": {
        "id": "7tWD_nhdgWd2"
      },
      "source": [
        "There were more female (0) survivors than males"
      ]
    },
    {
      "cell_type": "code",
      "metadata": {
        "id": "tHnsRb5dgegI",
        "outputId": "61b40747-358c-4aa5-fa17-f77f7ae5a25c",
        "colab": {
          "base_uri": "https://localhost:8080/",
          "height": 333
        }
      },
      "source": [
        "#SibSp against Survival\n",
        "bar_chart('SibSp')\n",
        "plt.title('SibSp Vs Survival')"
      ],
      "execution_count": 30,
      "outputs": [
        {
          "output_type": "execute_result",
          "data": {
            "text/plain": [
              "Text(0.5, 1.0, 'SibSp Vs Survival')"
            ]
          },
          "metadata": {
            "tags": []
          },
          "execution_count": 30
        },
        {
          "output_type": "display_data",
          "data": {
            "image/png": "[encoded data removed]",
            "text/plain": [
              "<Figure size 432x288 with 1 Axes>"
            ]
          },
          "metadata": {
            "tags": [],
            "needs_background": "light"
          }
        }
      ]
    },
    {
      "cell_type": "markdown",
      "metadata": {
        "id": "CfhL9UNWg3jZ"
      },
      "source": [
        "Passengers that had more siblings or a spouse aboard the titanic increased their chances of survival compared to those who were alone."
      ]
    },
    {
      "cell_type": "code",
      "metadata": {
        "id": "YE7kYpybiMT1",
        "outputId": "fe0227d3-2647-401f-a4af-2d1728457fbd",
        "colab": {
          "base_uri": "https://localhost:8080/",
          "height": 333
        }
      },
      "source": [
        "#Parch against Survival\n",
        "bar_chart('Parch')\n",
        "plt.title('Parch Vs Survival')"
      ],
      "execution_count": 31,
      "outputs": [
        {
          "output_type": "execute_result",
          "data": {
            "text/plain": [
              "Text(0.5, 1.0, 'Parch Vs Survival')"
            ]
          },
          "metadata": {
            "tags": []
          },
          "execution_count": 31
        },
        {
          "output_type": "display_data",
          "data": {
            "image/png": "[encoded data removed]",
            "text/plain": [
              "<Figure size 432x288 with 1 Axes>"
            ]
          },
          "metadata": {
            "tags": [],
            "needs_background": "light"
          }
        }
      ]
    },
    {
      "cell_type": "markdown",
      "metadata": {
        "id": "LsA4IzYXiZdp"
      },
      "source": [
        "Passengers that had more parents or children aboard the titanic increased their chances of survival compared to those who were alone."
      ]
    },
    {
      "cell_type": "code",
      "metadata": {
        "id": "9z5uYdTkj8Wm",
        "outputId": "160a9182-620b-4898-cd05-804a421b83cb",
        "colab": {
          "base_uri": "https://localhost:8080/",
          "height": 333
        }
      },
      "source": [
        "#Embarked against Survival\n",
        "bar_chart('Embarked')\n",
        "plt.title('Embarked Vs Survival')"
      ],
      "execution_count": 32,
      "outputs": [
        {
          "output_type": "execute_result",
          "data": {
            "text/plain": [
              "Text(0.5, 1.0, 'Embarked Vs Survival')"
            ]
          },
          "metadata": {
            "tags": []
          },
          "execution_count": 32
        },
        {
          "output_type": "display_data",
          "data": {
            "image/png": "[encoded data removed]",
            "text/plain": [
              "<Figure size 432x288 with 1 Axes>"
            ]
          },
          "metadata": {
            "tags": [],
            "needs_background": "light"
          }
        }
      ]
    },
    {
      "cell_type": "markdown",
      "metadata": {
        "id": "hFwWQiifkTGx"
      },
      "source": [
        "Passengers who embarked at ports meant for a higher class aboard the titanic had a higher chance of survival. Port S was assocaiated with 3rd Class passengers, hence more deaths."
      ]
    },
    {
      "cell_type": "code",
      "metadata": {
        "id": "38Fi3czWcLDz",
        "outputId": "ebafb48f-a871-464e-9035-5aded69a7fc4",
        "colab": {
          "base_uri": "https://localhost:8080/",
          "height": 387
        }
      },
      "source": [
        "#Plotting a Facet Grid to show distribution of Ages and those that survived\n",
        "\n",
        "facet = sns.FacetGrid(train, col='Survived', height=5)\n",
        "facet.map(plt.hist, 'Age', bins=40)"
      ],
      "execution_count": 33,
      "outputs": [
        {
          "output_type": "execute_result",
          "data": {
            "text/plain": [
              "<seaborn.axisgrid.FacetGrid at 0x7f8f3e126c50>"
            ]
          },
          "metadata": {
            "tags": []
          },
          "execution_count": 33
        },
        {
          "output_type": "display_data",
          "data": {
            "image/png": "[encoded data removed]",
            "text/plain": [
              "<Figure size 720x360 with 2 Axes>"
            ]
          },
          "metadata": {
            "tags": [],
            "needs_background": "light"
          }
        }
      ]
    },
    {
      "cell_type": "markdown",
      "metadata": {
        "id": "EM51yI3ndIOu"
      },
      "source": [
        "The distribution shows that majority of people of an approximate age of 23-24 died(Survived = 0).These were young men judging from the previous bar_chart for Sex Vs Survival."
      ]
    },
    {
      "cell_type": "code",
      "metadata": {
        "id": "gSCELef_avYw",
        "outputId": "968648c6-a7d9-4e12-c968-f2030a4ce6b2",
        "colab": {
          "base_uri": "https://localhost:8080/",
          "height": 505
        }
      },
      "source": [
        "# Correlation Matrix\n",
        "f, ax = plt.subplots(figsize=(10, 8))\n",
        "corr = train.corr()\n",
        "sns.heatmap(corr,\n",
        "          xticklabels=train.columns.values,\n",
        "          yticklabels=train.columns.values,\n",
        "         annot = True)"
      ],
      "execution_count": 34,
      "outputs": [
        {
          "output_type": "execute_result",
          "data": {
            "text/plain": [
              "<matplotlib.axes._subplots.AxesSubplot at 0x7f8f3b672fd0>"
            ]
          },
          "metadata": {
            "tags": []
          },
          "execution_count": 34
        },
        {
          "output_type": "display_data",
          "data": {
            "image/png": "[encoded data removed]",
            "text/plain": [
              "<Figure size 720x576 with 2 Axes>"
            ]
          },
          "metadata": {
            "tags": [],
            "needs_background": "light"
          }
        }
      ]
    },
    {
      "cell_type": "markdown",
      "metadata": {
        "id": "UlOdi7SDbLeN"
      },
      "source": [
        "Theres a strong correlation between sex and survived(-0.54).Indicating a particular sex was predisposed to a higher chance of survival."
      ]
    },
    {
      "cell_type": "markdown",
      "metadata": {
        "id": "vTbdjSrhVIiT"
      },
      "source": [
        "## 7. Implementing the Solution"
      ]
    },
    {
      "cell_type": "markdown",
      "metadata": {
        "id": "EMO4SZQC9VcV"
      },
      "source": [
        "##### Baseline Model"
      ]
    },
    {
      "cell_type": "code",
      "metadata": {
        "id": "PJLZaRzJXJ3w"
      },
      "source": [
        "#Splitting data into X and y\n",
        "X = train.drop(columns = ['Survived'])\n",
        "y = train['Survived']\n",
        "\n",
        "from sklearn.model_selection import train_test_split\n",
        "\n",
        "#Splitting data\n",
        "\n",
        "X_train, X_test, y_train, y_test = train_test_split(X,y, test_size = .2, random_state = 0)"
      ],
      "execution_count": 35,
      "outputs": []
    },
    {
      "cell_type": "code",
      "metadata": {
        "id": "sx4_bM9X-OET"
      },
      "source": [
        "#Scaling data\n",
        "from sklearn.preprocessing import StandardScaler\n",
        "\n",
        "scaler = StandardScaler()\n",
        "X_train = scaler.fit_transform(X_train)\n",
        "X_test = scaler.transform(X_test)"
      ],
      "execution_count": 36,
      "outputs": []
    },
    {
      "cell_type": "code",
      "metadata": {
        "id": "t9zN-6dl__Nd",
        "outputId": "63b79361-37e1-407c-ea7e-4f7b8dbd7a99",
        "colab": {
          "base_uri": "https://localhost:8080/",
          "height": 72
        }
      },
      "source": [
        "#Modelling using KNN\n",
        "from sklearn.neighbors import KNeighborsClassifier\n",
        "from sklearn import metrics\n",
        "from sklearn.metrics import accuracy_score, confusion_matrix\n",
        "from sklearn.model_selection import GridSearchCV\n",
        "\n",
        "#setting our k in KNeighborsClassifier as 7\n",
        "knn = KNeighborsClassifier(7)\n",
        "\n",
        "#Prediction\n",
        "y_pred = knn.fit(X_train, y_train).predict(X_test)\n",
        "\n",
        "#Checking metrics and evaluation\n",
        "print(np.mean(y_pred == y_test))  #percentage of correct classification\n",
        "print(confusion_matrix(y_pred , y_test))\n",
        "baseline_accuracy = np.mean(y_pred == y_test) #for comparisons in the next models"
      ],
      "execution_count": 37,
      "outputs": [
        {
          "output_type": "stream",
          "text": [
            "0.7640449438202247\n",
            "[[88 25]\n",
            " [17 48]]\n"
          ],
          "name": "stdout"
        }
      ]
    },
    {
      "cell_type": "markdown",
      "metadata": {
        "id": "AfHsSKvbc02C"
      },
      "source": [
        "The confusion matrix tells us we have 88 True Positive Predictions and 48 True Negative predictions"
      ]
    },
    {
      "cell_type": "markdown",
      "metadata": {
        "id": "jWVGKGuiYMWg"
      },
      "source": [
        "##### Optimisation\n",
        "\n",
        "Distance Metric and Hyperparameter Tuning\n",
        "\n",
        "\n",
        "\n",
        "\n"
      ]
    },
    {
      "cell_type": "code",
      "metadata": {
        "id": "YH2OP9tXlhhV",
        "outputId": "76b477ee-52a1-4528-b163-6f6b281be32e",
        "colab": {
          "base_uri": "https://localhost:8080/",
          "height": 72
        }
      },
      "source": [
        "#Splitting data\n",
        "\n",
        "X_train, X_test, y_train, y_test = train_test_split(X,y, test_size = .2, random_state = 0)\n",
        "\n",
        "#List of out hyperparameters and type of distance\n",
        "leaf_size = list(range(1,50))\n",
        "n_neighbors = list(range(1,20))\n",
        "p=[1,2] # 1 is manhattan distance and 2 is euclidean distance\n",
        "\n",
        "#Convert to dictionary\n",
        "hyperparameters = dict(leaf_size=leaf_size, n_neighbors=n_neighbors, p=p)\n",
        "\n",
        "#creating second KNN object\n",
        "knn_2 = KNeighborsClassifier()\n",
        "\n",
        "#Conducting GridSearch with 10 folds\n",
        "clf = GridSearchCV(knn_2, hyperparameters, cv=10)\n",
        "\n",
        "#Fitting and prediction the model\n",
        "best_model = clf.fit(X_train,y_train)\n",
        "#Print The value of best Hyperparameters\n",
        "print('Best leaf_size:', best_model.best_estimator_.get_params()['leaf_size'])\n",
        "print('Best p:', best_model.best_estimator_.get_params()['p'])\n",
        "print('Best n_neighbors:', best_model.best_estimator_.get_params()['n_neighbors'])\n",
        "\n",
        "#Returns \n",
        "#Best leaf_size: 5\n",
        "#Best p: 1\n",
        "#Best n_neighbors: 11"
      ],
      "execution_count": 79,
      "outputs": [
        {
          "output_type": "stream",
          "text": [
            "Best leaf_size: 5\n",
            "Best p: 1\n",
            "Best n_neighbors: 11\n"
          ],
          "name": "stdout"
        }
      ]
    },
    {
      "cell_type": "code",
      "metadata": {
        "id": "QZlxCE3aoY06",
        "outputId": "c077ba5a-0a89-4f2e-bd1d-e0238c7f3912",
        "colab": {
          "base_uri": "https://localhost:8080/",
          "height": 90
        }
      },
      "source": [
        "#Applying best hyperparameters to our model\n",
        "paramsknn = {\n",
        "    'leaf_size': 5,\n",
        "    'p': 1,\n",
        "    'n_neighbors': 7\n",
        "}\n",
        "\n",
        "#Scaling\n",
        "scaler = StandardScaler()\n",
        "X_train = scaler.fit_transform(X_train)\n",
        "X_test = scaler.transform(X_test)\n",
        "\n",
        "#Fitting and Prediction\n",
        "knn_3 = KNeighborsClassifier(**paramsknn)\n",
        "\n",
        "#Prediction\n",
        "y_pred = knn_3.fit(X_train, y_train).predict(X_test)\n",
        "\n",
        "#Metrics and Evaluation\n",
        "\n",
        "print(np.mean(y_pred == y_test))  #percentage of correct classification\n",
        "print(confusion_matrix(y_pred , y_test))\n",
        "\n",
        "new_accuracy = np.mean(y_pred == y_test)  \n",
        "print('Accuracy Improvement of {:0.2f}%.'.format( 100 * (new_accuracy - baseline_accuracy) / baseline_accuracy))"
      ],
      "execution_count": 38,
      "outputs": [
        {
          "output_type": "stream",
          "text": [
            "0.7696629213483146\n",
            "[[91 27]\n",
            " [14 46]]\n",
            "Accuracy Improvement of 0.74%.\n"
          ],
          "name": "stdout"
        }
      ]
    },
    {
      "cell_type": "markdown",
      "metadata": {
        "id": "5OfsqUw8qpnx"
      },
      "source": [
        "Tuned Model performs better with k set as 7, as opposed to 11. We stick to it. Matrix reveals 91 true positives and 46 true negative predictions."
      ]
    },
    {
      "cell_type": "markdown",
      "metadata": {
        "id": "yPpQ7cqJqwOb"
      },
      "source": [
        "##### Changing test_size to 30 and 40\n",
        "\n",
        "i.e. Using Tuned Model"
      ]
    },
    {
      "cell_type": "code",
      "metadata": {
        "id": "3GNjsesddUEI",
        "outputId": "646c9e69-2c2c-45a1-987f-0d69fc4bc8f1",
        "colab": {
          "base_uri": "https://localhost:8080/",
          "height": 90
        }
      },
      "source": [
        "#Splitting data again to test_size of 0.3\n",
        "\n",
        "X_train, X_test, y_train, y_test = train_test_split(X,y, test_size = .3, random_state = 0)\n",
        "\n",
        "#Applying best hyperparameters to our model\n",
        "\n",
        "#Scaling\n",
        "scaler = StandardScaler()\n",
        "X_train = scaler.fit_transform(X_train)\n",
        "X_test = scaler.transform(X_test)\n",
        "\n",
        "#Fitting and Prediction\n",
        "knn_3 = KNeighborsClassifier(**paramsknn)\n",
        "\n",
        "#Prediction\n",
        "y_pred = knn_3.fit(X_train, y_train).predict(X_test)\n",
        "\n",
        "#Metrics and Evaluation\n",
        "\n",
        "print(np.mean(y_pred == y_test))  #percentage of correct classification\n",
        "print(confusion_matrix(y_pred , y_test))\n",
        "\n",
        "new_accuracy = np.mean(y_pred == y_test)  \n",
        "print('With test_size of 0.3, Accuracy Improvement is {:0.2f}%.'.format( 100 * (new_accuracy - baseline_accuracy) / baseline_accuracy),'from baseline model')"
      ],
      "execution_count": 39,
      "outputs": [
        {
          "output_type": "stream",
          "text": [
            "0.8052434456928839\n",
            "[[141  36]\n",
            " [ 16  74]]\n",
            "With test_size of 0.3, Accuracy Improvement is 5.39%. from baseline model\n"
          ],
          "name": "stdout"
        }
      ]
    },
    {
      "cell_type": "markdown",
      "metadata": {
        "id": "5-EaHwSnuK00"
      },
      "source": [
        "Matrix reveals 141 true positive predictions and 74 true negative predictions."
      ]
    },
    {
      "cell_type": "code",
      "metadata": {
        "id": "fea9omrMtLTu",
        "outputId": "e4380dc8-5e8d-4051-b965-2a9e390330fe",
        "colab": {
          "base_uri": "https://localhost:8080/",
          "height": 90
        }
      },
      "source": [
        "#Splitting data again to test_size of 0.4\n",
        "X_train, X_test, y_train, y_test = train_test_split(X,y, test_size = .4, random_state = 0)\n",
        "\n",
        "#Applying best hyperparameters to our model\n",
        "\n",
        "#Scaling\n",
        "scaler = StandardScaler()\n",
        "X_train = scaler.fit_transform(X_train)\n",
        "X_test = scaler.transform(X_test)\n",
        "\n",
        "#Fitting and Prediction\n",
        "knn_3 = KNeighborsClassifier(**paramsknn)\n",
        "\n",
        "#Prediction\n",
        "y_pred = knn_3.fit(X_train, y_train).predict(X_test)\n",
        "\n",
        "#Metrics and Evaluation\n",
        "\n",
        "print(np.mean(y_pred == y_test))  #percentage of correct classification\n",
        "print(confusion_matrix(y_pred , y_test))\n",
        "\n",
        "new_accuracy = np.mean(y_pred == y_test)  \n",
        "print('With test_size of 0.4, Accuracy Improvement is {:0.2f}%.'.format( 100 * (new_accuracy - baseline_accuracy) / baseline_accuracy),'from baseline model')"
      ],
      "execution_count": 40,
      "outputs": [
        {
          "output_type": "stream",
          "text": [
            "0.797752808988764\n",
            "[[191  47]\n",
            " [ 25  93]]\n",
            "With test_size of 0.4, Accuracy Improvement is 4.41%. from baseline model\n"
          ],
          "name": "stdout"
        }
      ]
    },
    {
      "cell_type": "markdown",
      "metadata": {
        "id": "mphZ8ZGftTsb"
      },
      "source": [
        "Matrix reveals 191 true positives and 93 true negatives. Therefore, the best and recommended test_size to chose is 0.3 becasue it has fewer false positives/negatives."
      ]
    },
    {
      "cell_type": "markdown",
      "metadata": {
        "id": "lQ2G4ZPDVOXE"
      },
      "source": [
        "## 8. Challenging the solution"
      ]
    },
    {
      "cell_type": "markdown",
      "metadata": {
        "id": "qYf95itYvE3X"
      },
      "source": [
        "We should never allow our solution to hold the day. Therefore, to challenge our solution, we can use other models such as SVM or Random Forests to see whether they perform better on our dataset."
      ]
    },
    {
      "cell_type": "code",
      "metadata": {
        "id": "NXc5pZTmkmQA",
        "outputId": "925b8cc5-f566-4f03-dea0-8a0b79331089",
        "colab": {
          "base_uri": "https://localhost:8080/",
          "height": 54
        }
      },
      "source": [
        "#importing additional model libraries\n",
        "from sklearn.svm import SVC\n",
        "from sklearn.ensemble import RandomForestClassifier\n",
        "import scipy.stats as sp\n",
        "from scipy.stats import randint as sp_randint\n",
        "from sklearn.model_selection import RandomizedSearchCV\n",
        "from sklearn.model_selection import KFold\n",
        "from sklearn.model_selection import cross_val_score\n",
        "\n",
        "#Specifying our hyperparameters\n",
        "\n",
        "param_dist = {\"max_depth\": [3, None],\n",
        "              \"max_features\": sp_randint(1, 11),\n",
        "              \"min_samples_split\": sp_randint(2, 11),\n",
        "              \"bootstrap\": [True, False],\n",
        "              \"criterion\": [\"gini\", \"entropy\"]}\n",
        "\n",
        "#Splitting data with test_size 0.4\n",
        "\n",
        "X_train, X_test, y_train, y_test = train_test_split(X,y, test_size = .4, random_state = 0)\n",
        "\n",
        "#Instantiating classifier to store classification models\n",
        "classifier = []\n",
        "\n",
        "#Appending different classification models to our classifier\n",
        "classifier.append(('Random Forest ', RandomForestClassifier()))\n",
        "classifier.append(('SVC ', SVC()))\n",
        "\n",
        "##Hyperparameter tuning using Random search with 5 folds\n",
        "random_search = RandomizedSearchCV(classifier, param_dist, cv = 5)\n",
        "\n",
        "#instatiating empty lists to store model names and results\n",
        "m_results =[]\n",
        "names = []\n",
        "\n",
        "#Looping the classification model and results\n",
        "for name, model in classifier:\n",
        "   kfold = KFold(n_splits=5, random_state=0)\n",
        "   model_results = cross_val_score(model, X_train, y_train, cv=kfold, scoring='accuracy')\n",
        "   m_results.append(model_results)\n",
        "   names.append(name)\n",
        "   print(\"%s: %f (%f)\" % (name, model_results.mean(), model_results.std()))"
      ],
      "execution_count": 43,
      "outputs": [
        {
          "output_type": "stream",
          "text": [
            "Random Forest : 0.819944 (0.035904)\n",
            "SVC : 0.664045 (0.059654)\n"
          ],
          "name": "stdout"
        }
      ]
    },
    {
      "cell_type": "markdown",
      "metadata": {
        "id": "deCvBzg7jsze"
      },
      "source": [
        "From the results above, Random Forest seems to be an alternative model for use in this classification."
      ]
    },
    {
      "cell_type": "markdown",
      "metadata": {
        "id": "xrmHVMVsVS--"
      },
      "source": [
        "## 9. Follow up questions"
      ]
    },
    {
      "cell_type": "markdown",
      "metadata": {
        "id": "HPQviDmNtta8"
      },
      "source": [
        "### a). Did we have the right data?\n",
        "\n",
        "The data was right and substantial."
      ]
    },
    {
      "cell_type": "markdown",
      "metadata": {
        "id": "qjFHK1CKty7o"
      },
      "source": [
        "### b). Do we need other data to answer our question?\n",
        "\n",
        "No."
      ]
    },
    {
      "cell_type": "markdown",
      "metadata": {
        "id": "HSsicSdvt4Zs"
      },
      "source": [
        "### c). Did we have the right question?\n",
        "\n",
        "There was no question but the question is quite obvious, predicting titanic survivors."
      ]
    },
    {
      "cell_type": "markdown",
      "metadata": {
        "id": "xTB3kwYAlaIn"
      },
      "source": [
        "#### Conclusion\n",
        "\n",
        "In conclusion, the KNN Model performed better with a test_size of 0.3 and hyperparameters of Best leaf_size: 5,Best p: 1 and Best n_neighbors: 7. However, upon challenging the solution, it would be good to also model our data and perform classification using Random Forest."
      ]
    }
  ]
}